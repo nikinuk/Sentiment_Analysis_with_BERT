{
 "cells": [
  {
   "cell_type": "code",
   "execution_count": 1,
   "metadata": {},
   "outputs": [],
   "source": [
    "import pandas as pd\n",
    "import matplotlib"
   ]
  },
  {
   "cell_type": "code",
   "execution_count": 2,
   "metadata": {},
   "outputs": [
    {
     "data": {
      "text/plain": [
       "(52948, 14)"
      ]
     },
     "execution_count": 2,
     "metadata": {},
     "output_type": "execute_result"
    }
   ],
   "source": [
    "df = pd.read_csv('test.csv', low_memory=False, parse_dates=[1])\n",
    "df.shape"
   ]
  },
  {
   "cell_type": "code",
   "execution_count": 3,
   "metadata": {},
   "outputs": [
    {
     "data": {
      "text/html": [
       "<div>\n",
       "<style scoped>\n",
       "    .dataframe tbody tr th:only-of-type {\n",
       "        vertical-align: middle;\n",
       "    }\n",
       "\n",
       "    .dataframe tbody tr th {\n",
       "        vertical-align: top;\n",
       "    }\n",
       "\n",
       "    .dataframe thead th {\n",
       "        text-align: right;\n",
       "    }\n",
       "</style>\n",
       "<table border=\"1\" class=\"dataframe\">\n",
       "  <thead>\n",
       "    <tr style=\"text-align: right;\">\n",
       "      <th></th>\n",
       "      <th>ID</th>\n",
       "      <th>submission_date</th>\n",
       "      <th>reviewer_id</th>\n",
       "      <th>reviewer_birth_year</th>\n",
       "      <th>reviewer_gender</th>\n",
       "      <th>reviewer_state</th>\n",
       "      <th>product_id</th>\n",
       "      <th>product_name</th>\n",
       "      <th>product_brand</th>\n",
       "      <th>site_category_lv1</th>\n",
       "      <th>site_category_lv2</th>\n",
       "      <th>review_title</th>\n",
       "      <th>review_text</th>\n",
       "      <th>recommend_to_a_friend</th>\n",
       "    </tr>\n",
       "  </thead>\n",
       "  <tbody>\n",
       "    <tr>\n",
       "      <th>0</th>\n",
       "      <td>79426</td>\n",
       "      <td>2018-04-14 13:37:06</td>\n",
       "      <td>1e996f21a57bed83512bfb593648a8e84b7cc373e71262...</td>\n",
       "      <td>1982.0</td>\n",
       "      <td>M</td>\n",
       "      <td>SP</td>\n",
       "      <td>132444092</td>\n",
       "      <td>Smartphone Motorola Moto G 5S Dual Chip Androi...</td>\n",
       "      <td>NaN</td>\n",
       "      <td>Celulares e Smartphones</td>\n",
       "      <td>Smartphone</td>\n",
       "      <td>Excelente</td>\n",
       "      <td>Celular muito bom, a imagem dele em jogos impr...</td>\n",
       "      <td>Yes</td>\n",
       "    </tr>\n",
       "    <tr>\n",
       "      <th>1</th>\n",
       "      <td>79427</td>\n",
       "      <td>2018-01-21 17:38:59</td>\n",
       "      <td>808841afbd6011d7f8edb3a938ea4b8ad4b996e92efa6e...</td>\n",
       "      <td>1978.0</td>\n",
       "      <td>M</td>\n",
       "      <td>PR</td>\n",
       "      <td>132267647</td>\n",
       "      <td>Notebook Acer F5-573G-75A3 Intel Core 7 I7 8GB...</td>\n",
       "      <td>acer</td>\n",
       "      <td>Informática</td>\n",
       "      <td>Notebook</td>\n",
       "      <td>Excelente custo x benefício</td>\n",
       "      <td>Excelente produto! Vale a pena o investimento!...</td>\n",
       "      <td>Yes</td>\n",
       "    </tr>\n",
       "    <tr>\n",
       "      <th>2</th>\n",
       "      <td>79428</td>\n",
       "      <td>2018-02-01 11:28:11</td>\n",
       "      <td>228ed5791cebda164ae1da88a519394572ff0a19c0faf5...</td>\n",
       "      <td>1989.0</td>\n",
       "      <td>F</td>\n",
       "      <td>MG</td>\n",
       "      <td>112941526</td>\n",
       "      <td>Máquina de Cortar Cabelo + Aparador Wahl Clipp...</td>\n",
       "      <td>wahl</td>\n",
       "      <td>Beleza e Perfumaria</td>\n",
       "      <td>Barbearia</td>\n",
       "      <td>Produto exelente</td>\n",
       "      <td>Fiquei muito satisfeita com minha compra, cheg...</td>\n",
       "      <td>Yes</td>\n",
       "    </tr>\n",
       "    <tr>\n",
       "      <th>3</th>\n",
       "      <td>79429</td>\n",
       "      <td>2018-01-27 11:42:49</td>\n",
       "      <td>842b5dd4e35fca1e6fd224a9fc6379e54fc1dc17961f73...</td>\n",
       "      <td>1970.0</td>\n",
       "      <td>F</td>\n",
       "      <td>SP</td>\n",
       "      <td>132390047</td>\n",
       "      <td>Smartphone Samsung Galaxy J5 Pro Dual Chip And...</td>\n",
       "      <td>NaN</td>\n",
       "      <td>Celulares e Smartphones</td>\n",
       "      <td>Smartphone</td>\n",
       "      <td>Gostei muito do produto</td>\n",
       "      <td>Sem comentarios..................................</td>\n",
       "      <td>Yes</td>\n",
       "    </tr>\n",
       "    <tr>\n",
       "      <th>4</th>\n",
       "      <td>79430</td>\n",
       "      <td>2018-01-03 08:28:43</td>\n",
       "      <td>b96e6c9264f7ff66250cf74073797e547142dccc6bfc58...</td>\n",
       "      <td>1989.0</td>\n",
       "      <td>F</td>\n",
       "      <td>RJ</td>\n",
       "      <td>20739281</td>\n",
       "      <td>Sofá 4 Lugares Connect Retrátil e Reclinável S...</td>\n",
       "      <td>NaN</td>\n",
       "      <td>Móveis</td>\n",
       "      <td>Sofá</td>\n",
       "      <td>Ótimo produto, entrega rápida e excelente!!!</td>\n",
       "      <td>Sofá  grande, confortável. Entrega muito antes...</td>\n",
       "      <td>Yes</td>\n",
       "    </tr>\n",
       "  </tbody>\n",
       "</table>\n",
       "</div>"
      ],
      "text/plain": [
       "      ID     submission_date  \\\n",
       "0  79426 2018-04-14 13:37:06   \n",
       "1  79427 2018-01-21 17:38:59   \n",
       "2  79428 2018-02-01 11:28:11   \n",
       "3  79429 2018-01-27 11:42:49   \n",
       "4  79430 2018-01-03 08:28:43   \n",
       "\n",
       "                                         reviewer_id  reviewer_birth_year  \\\n",
       "0  1e996f21a57bed83512bfb593648a8e84b7cc373e71262...               1982.0   \n",
       "1  808841afbd6011d7f8edb3a938ea4b8ad4b996e92efa6e...               1978.0   \n",
       "2  228ed5791cebda164ae1da88a519394572ff0a19c0faf5...               1989.0   \n",
       "3  842b5dd4e35fca1e6fd224a9fc6379e54fc1dc17961f73...               1970.0   \n",
       "4  b96e6c9264f7ff66250cf74073797e547142dccc6bfc58...               1989.0   \n",
       "\n",
       "  reviewer_gender reviewer_state product_id  \\\n",
       "0               M             SP  132444092   \n",
       "1               M             PR  132267647   \n",
       "2               F             MG  112941526   \n",
       "3               F             SP  132390047   \n",
       "4               F             RJ   20739281   \n",
       "\n",
       "                                        product_name product_brand  \\\n",
       "0  Smartphone Motorola Moto G 5S Dual Chip Androi...           NaN   \n",
       "1  Notebook Acer F5-573G-75A3 Intel Core 7 I7 8GB...          acer   \n",
       "2  Máquina de Cortar Cabelo + Aparador Wahl Clipp...          wahl   \n",
       "3  Smartphone Samsung Galaxy J5 Pro Dual Chip And...           NaN   \n",
       "4  Sofá 4 Lugares Connect Retrátil e Reclinável S...           NaN   \n",
       "\n",
       "         site_category_lv1 site_category_lv2  \\\n",
       "0  Celulares e Smartphones        Smartphone   \n",
       "1              Informática          Notebook   \n",
       "2      Beleza e Perfumaria         Barbearia   \n",
       "3  Celulares e Smartphones        Smartphone   \n",
       "4                   Móveis              Sofá   \n",
       "\n",
       "                                   review_title  \\\n",
       "0                                     Excelente   \n",
       "1                   Excelente custo x benefício   \n",
       "2                              Produto exelente   \n",
       "3                       Gostei muito do produto   \n",
       "4  Ótimo produto, entrega rápida e excelente!!!   \n",
       "\n",
       "                                         review_text recommend_to_a_friend  \n",
       "0  Celular muito bom, a imagem dele em jogos impr...                   Yes  \n",
       "1  Excelente produto! Vale a pena o investimento!...                   Yes  \n",
       "2  Fiquei muito satisfeita com minha compra, cheg...                   Yes  \n",
       "3  Sem comentarios..................................                   Yes  \n",
       "4  Sofá  grande, confortável. Entrega muito antes...                   Yes  "
      ]
     },
     "execution_count": 3,
     "metadata": {},
     "output_type": "execute_result"
    }
   ],
   "source": [
    "df.head()"
   ]
  },
  {
   "cell_type": "code",
   "execution_count": 4,
   "metadata": {},
   "outputs": [
    {
     "name": "stdout",
     "output_type": "stream",
     "text": [
      "<class 'pandas.core.frame.DataFrame'>\n",
      "RangeIndex: 52948 entries, 0 to 52947\n",
      "Data columns (total 14 columns):\n",
      " #   Column                 Non-Null Count  Dtype         \n",
      "---  ------                 --------------  -----         \n",
      " 0   ID                     52948 non-null  int64         \n",
      " 1   submission_date        52948 non-null  datetime64[ns]\n",
      " 2   reviewer_id            52948 non-null  object        \n",
      " 3   reviewer_birth_year    50515 non-null  float64       \n",
      " 4   reviewer_gender        51296 non-null  object        \n",
      " 5   reviewer_state         51359 non-null  object        \n",
      " 6   product_id             52948 non-null  object        \n",
      " 7   product_name           52916 non-null  object        \n",
      " 8   product_brand          16336 non-null  object        \n",
      " 9   site_category_lv1      52946 non-null  object        \n",
      " 10  site_category_lv2      51353 non-null  object        \n",
      " 11  review_title           52823 non-null  object        \n",
      " 12  review_text            51640 non-null  object        \n",
      " 13  recommend_to_a_friend  52941 non-null  object        \n",
      "dtypes: datetime64[ns](1), float64(1), int64(1), object(11)\n",
      "memory usage: 5.7+ MB\n"
     ]
    }
   ],
   "source": [
    "df.info()"
   ]
  },
  {
   "cell_type": "markdown",
   "metadata": {},
   "source": [
    "- Dados completos para: ['ID', 'submission_date', 'reviewer_id', 'product_id', 'rating']\n",
    "- Coluna 'product_brand' faltando 70% dos valores\n"
   ]
  },
  {
   "cell_type": "code",
   "execution_count": 5,
   "metadata": {},
   "outputs": [
    {
     "data": {
      "text/html": [
       "<div>\n",
       "<style scoped>\n",
       "    .dataframe tbody tr th:only-of-type {\n",
       "        vertical-align: middle;\n",
       "    }\n",
       "\n",
       "    .dataframe tbody tr th {\n",
       "        vertical-align: top;\n",
       "    }\n",
       "\n",
       "    .dataframe thead th {\n",
       "        text-align: right;\n",
       "    }\n",
       "</style>\n",
       "<table border=\"1\" class=\"dataframe\">\n",
       "  <thead>\n",
       "    <tr style=\"text-align: right;\">\n",
       "      <th></th>\n",
       "      <th>ID</th>\n",
       "      <th>submission_date</th>\n",
       "      <th>reviewer_birth_year</th>\n",
       "    </tr>\n",
       "  </thead>\n",
       "  <tbody>\n",
       "    <tr>\n",
       "      <th>count</th>\n",
       "      <td>52948.000000</td>\n",
       "      <td>52948</td>\n",
       "      <td>50515.000000</td>\n",
       "    </tr>\n",
       "    <tr>\n",
       "      <th>mean</th>\n",
       "      <td>105899.500000</td>\n",
       "      <td>2018-03-16 23:11:58.448628992</td>\n",
       "      <td>1977.452163</td>\n",
       "    </tr>\n",
       "    <tr>\n",
       "      <th>min</th>\n",
       "      <td>79426.000000</td>\n",
       "      <td>2018-01-01 00:35:54</td>\n",
       "      <td>61.000000</td>\n",
       "    </tr>\n",
       "    <tr>\n",
       "      <th>25%</th>\n",
       "      <td>92662.750000</td>\n",
       "      <td>2018-01-29 04:13:32.750000128</td>\n",
       "      <td>1969.000000</td>\n",
       "    </tr>\n",
       "    <tr>\n",
       "      <th>50%</th>\n",
       "      <td>105899.500000</td>\n",
       "      <td>2018-03-22 04:58:58</td>\n",
       "      <td>1980.000000</td>\n",
       "    </tr>\n",
       "    <tr>\n",
       "      <th>75%</th>\n",
       "      <td>119136.250000</td>\n",
       "      <td>2018-04-24 12:26:55</td>\n",
       "      <td>1987.000000</td>\n",
       "    </tr>\n",
       "    <tr>\n",
       "      <th>max</th>\n",
       "      <td>132373.000000</td>\n",
       "      <td>2018-05-31 23:44:16</td>\n",
       "      <td>2017.000000</td>\n",
       "    </tr>\n",
       "    <tr>\n",
       "      <th>std</th>\n",
       "      <td>15284.915363</td>\n",
       "      <td>NaN</td>\n",
       "      <td>24.341392</td>\n",
       "    </tr>\n",
       "  </tbody>\n",
       "</table>\n",
       "</div>"
      ],
      "text/plain": [
       "                  ID                submission_date  reviewer_birth_year\n",
       "count   52948.000000                          52948         50515.000000\n",
       "mean   105899.500000  2018-03-16 23:11:58.448628992          1977.452163\n",
       "min     79426.000000            2018-01-01 00:35:54            61.000000\n",
       "25%     92662.750000  2018-01-29 04:13:32.750000128          1969.000000\n",
       "50%    105899.500000            2018-03-22 04:58:58          1980.000000\n",
       "75%    119136.250000            2018-04-24 12:26:55          1987.000000\n",
       "max    132373.000000            2018-05-31 23:44:16          2017.000000\n",
       "std     15284.915363                            NaN            24.341392"
      ]
     },
     "execution_count": 5,
     "metadata": {},
     "output_type": "execute_result"
    }
   ],
   "source": [
    "df.describe()"
   ]
  },
  {
   "cell_type": "markdown",
   "metadata": {},
   "source": [
    "- Some errors in column 'reviewr_birth_year' (min = 59, max = 2018)"
   ]
  },
  {
   "cell_type": "code",
   "execution_count": 6,
   "metadata": {},
   "outputs": [
    {
     "data": {
      "text/plain": [
       "reviewer_birth_year\n",
       "61.0      1\n",
       "71.0      1\n",
       "83.0      2\n",
       "85.0      2\n",
       "1898.0    1\n",
       "         ..\n",
       "2007.0    3\n",
       "2008.0    2\n",
       "2009.0    3\n",
       "2010.0    6\n",
       "2017.0    1\n",
       "Name: count, Length: 99, dtype: int64"
      ]
     },
     "execution_count": 6,
     "metadata": {},
     "output_type": "execute_result"
    }
   ],
   "source": [
    "df.reviewer_birth_year.value_counts().sort_index()"
   ]
  },
  {
   "cell_type": "code",
   "execution_count": 7,
   "metadata": {},
   "outputs": [
    {
     "data": {
      "image/png": "[encoded data removed]",
      "text/plain": [
       "<Figure size 640x480 with 1 Axes>"
      ]
     },
     "metadata": {},
     "output_type": "display_data"
    }
   ],
   "source": [
    "ax = df.reviewer_birth_year.plot.hist(bins=20)"
   ]
  },
  {
   "cell_type": "code",
   "execution_count": 8,
   "metadata": {},
   "outputs": [
    {
     "data": {
      "image/png": "[encoded data removed]",
      "text/plain": [
       "<Figure size 640x480 with 1 Axes>"
      ]
     },
     "metadata": {},
     "output_type": "display_data"
    }
   ],
   "source": [
    "ax = df[df['reviewer_birth_year']>1900].reviewer_birth_year.plot.hist(bins=20)"
   ]
  },
  {
   "cell_type": "code",
   "execution_count": 9,
   "metadata": {},
   "outputs": [
    {
     "data": {
      "text/plain": [
       "reviewer_gender\n",
       "M    26605\n",
       "F    24691\n",
       "Name: count, dtype: int64"
      ]
     },
     "execution_count": 9,
     "metadata": {},
     "output_type": "execute_result"
    }
   ],
   "source": [
    "df.reviewer_gender.value_counts()"
   ]
  },
  {
   "cell_type": "code",
   "execution_count": 10,
   "metadata": {},
   "outputs": [
    {
     "data": {
      "text/plain": [
       "reviewer_state\n",
       "SP    19686\n",
       "RJ     7003\n",
       "MG     6528\n",
       "PR     2743\n",
       "RS     2678\n",
       "BA     1888\n",
       "SC     1860\n",
       "ES     1218\n",
       "PE     1130\n",
       "GO      996\n",
       "DF      961\n",
       "CE      870\n",
       "PA      603\n",
       "MA      527\n",
       "MT      379\n",
       "RN      362\n",
       "PB      361\n",
       "MS      325\n",
       "PI      259\n",
       "AL      255\n",
       "SE      205\n",
       "TO      162\n",
       "RO      158\n",
       "AM       92\n",
       "AP       47\n",
       "AC       34\n",
       "RR       29\n",
       "Name: count, dtype: int64"
      ]
     },
     "execution_count": 10,
     "metadata": {},
     "output_type": "execute_result"
    }
   ],
   "source": [
    "df.reviewer_state.value_counts()"
   ]
  },
  {
   "cell_type": "code",
   "execution_count": 11,
   "metadata": {},
   "outputs": [
    {
     "data": {
      "text/plain": [
       "24429"
      ]
     },
     "execution_count": 11,
     "metadata": {},
     "output_type": "execute_result"
    }
   ],
   "source": [
    "df.product_id.value_counts().size"
   ]
  },
  {
   "cell_type": "code",
   "execution_count": 12,
   "metadata": {},
   "outputs": [
    {
     "data": {
      "text/plain": [
       "site_category_lv1\n",
       "Celulares e Smartphones           8358\n",
       "Eletroportáteis                   4694\n",
       "Beleza e Perfumaria               3616\n",
       "Utilidades Domésticas             3249\n",
       "Informática e Acessórios          3008\n",
       "TV e Home Theater                 2952\n",
       "Móveis                            2790\n",
       "Brinquedos                        1900\n",
       "Casa e Construção                 1826\n",
       "Livros                            1704\n",
       "Informática                       1682\n",
       "Eletrodomésticos                  1615\n",
       "Automotivo                        1589\n",
       "Games                             1421\n",
       "Cama, Mesa e Banho                1208\n",
       "Esporte e Lazer                   1208\n",
       "Bebês                             1193\n",
       "Saúde                             1062\n",
       "Moda                               965\n",
       "Ferramentas e Jardim               699\n",
       "Relógios                           592\n",
       "Áudio                              572\n",
       "Decoração                          553\n",
       "Pet Shop                           552\n",
       "Suplementos e Vitaminas            485\n",
       "Papelaria                          467\n",
       "Câmeras e Filmadoras               461\n",
       "Instrumentos Musicais              385\n",
       "Ar-condicionado e Aquecedores      345\n",
       "Malas e Acessórios                 307\n",
       "Alimentos e Bebidas                275\n",
       "Filmes e Séries                    245\n",
       "Telefonia Fixa                     171\n",
       "Agro, Indústria e Comércio         132\n",
       "Miscellaneous                      131\n",
       "Vestuário Esportivo                120\n",
       "Wearable                           111\n",
       "Música                             111\n",
       "Livros Importados                   33\n",
       "Linha Industrial                    33\n",
       "Enfeites de Natal                   27\n",
       "Artigos de Festas                   26\n",
       "Indústria, Comércio e Negócios      25\n",
       "Sinalização e Segurança             18\n",
       "Páscoa                               9\n",
       "Artesanato                           8\n",
       "Informática Acessórios               4\n",
       "DVDs e Blu-ray                       3\n",
       "Beleza e Saúde                       2\n",
       "Blu-Ray                              2\n",
       "Perfumaria                           1\n",
       "Artigos de Festa                     1\n",
       "Name: count, dtype: int64"
      ]
     },
     "execution_count": 12,
     "metadata": {},
     "output_type": "execute_result"
    }
   ],
   "source": [
    "df.site_category_lv1.value_counts()"
   ]
  },
  {
   "cell_type": "code",
   "execution_count": 13,
   "metadata": {},
   "outputs": [
    {
     "data": {
      "text/plain": [
       "52"
      ]
     },
     "execution_count": 13,
     "metadata": {},
     "output_type": "execute_result"
    }
   ],
   "source": [
    "df.site_category_lv1.value_counts().size"
   ]
  },
  {
   "cell_type": "code",
   "execution_count": 14,
   "metadata": {},
   "outputs": [
    {
     "data": {
      "text/plain": [
       "site_category_lv2\n",
       "Smartphone                     7093\n",
       "TV                             2393\n",
       "Cabelo                         1004\n",
       "Acessórios para Celular         966\n",
       "Notebook                        965\n",
       "                               ... \n",
       "Lembrancinhas de Festas           1\n",
       "Caminho e Trilho de Mesa          1\n",
       "Saúde Sexual                      1\n",
       "Pasta Executiva                   1\n",
       "Alarmes e Travas para Motos       1\n",
       "Name: count, Length: 651, dtype: int64"
      ]
     },
     "execution_count": 14,
     "metadata": {},
     "output_type": "execute_result"
    }
   ],
   "source": [
    "df.site_category_lv2.value_counts()"
   ]
  },
  {
   "cell_type": "code",
   "execution_count": 15,
   "metadata": {},
   "outputs": [
    {
     "data": {
      "text/plain": [
       "<Axes: ylabel='Frequency'>"
      ]
     },
     "execution_count": 15,
     "metadata": {},
     "output_type": "execute_result"
    },
    {
     "data": {
      "image/png": "[encoded data removed]",
      "text/plain": [
       "<Figure size 640x480 with 1 Axes>"
      ]
     },
     "metadata": {},
     "output_type": "display_data"
    }
   ],
   "source": [
    "# lenth of titles and reviews\n",
    "\n",
    "df.review_title.apply(lambda x: len(str(x))).plot.hist()"
   ]
  },
  {
   "cell_type": "code",
   "execution_count": 16,
   "metadata": {},
   "outputs": [
    {
     "data": {
      "text/plain": [
       "<Axes: ylabel='Frequency'>"
      ]
     },
     "execution_count": 16,
     "metadata": {},
     "output_type": "execute_result"
    },
    {
     "data": {
      "image/png": "[encoded data removed]",
      "text/plain": [
       "<Figure size 640x480 with 1 Axes>"
      ]
     },
     "metadata": {},
     "output_type": "display_data"
    }
   ],
   "source": [
    "\n",
    "df.review_text.apply(lambda x: len(str(x))).plot.hist()\n"
   ]
  },
  {
   "cell_type": "code",
   "execution_count": 17,
   "metadata": {},
   "outputs": [
    {
     "data": {
      "text/plain": [
       "<Axes: ylabel='Frequency'>"
      ]
     },
     "execution_count": 17,
     "metadata": {},
     "output_type": "execute_result"
    },
    {
     "data": {
      "image/png": "[encoded data removed]",
      "text/plain": [
       "<Figure size 640x480 with 1 Axes>"
      ]
     },
     "metadata": {},
     "output_type": "display_data"
    }
   ],
   "source": [
    "\n",
    "df[df.review_text.apply(lambda x: len(str(x)))<1000].review_text.apply(lambda x: len(str(x))).plot.hist()"
   ]
  },
  {
   "cell_type": "code",
   "execution_count": 18,
   "metadata": {},
   "outputs": [
    {
     "data": {
      "text/plain": [
       "1647     pena que não tem desconto  pena que não tem de...\n",
       "12710    Estou reclamando aqui porque gostaria de uma p...\n",
       "12917    Se tratando da relação custo-benefício, posso ...\n",
       "17472    o livro conta a história de Sage, uma menina q...\n",
       "22418    PRODUTO AINDA NÃO CHEGOU PRODUTO AINDA NÃO CHE...\n",
       "25242    O teclado não possui qualidade nenhuma. Assim ...\n",
       "27430    Porque não recomendo este produto:  1) O produ...\n",
       "34676    Já tive vários aparelhos da Motorola, e como s...\n",
       "35165    O produto é realmente muito bom. Como não tenh...\n",
       "39779    Comprei o produto em 02/01/18 constando do com...\n",
       "45373    Foi o primeiro livro feminista que comprei, e ...\n",
       "48848    O serviço de transporte, terceirizado, colocou...\n",
       "48976    Comprei essa babá eletrônica aqui na Americana...\n",
       "51072    Amigo, não sei se interpretei mal, mas me pare...\n",
       "Name: review_text, dtype: object"
      ]
     },
     "execution_count": 18,
     "metadata": {},
     "output_type": "execute_result"
    }
   ],
   "source": [
    "df[df.review_text.apply(lambda x: len(str(x)))>2000].review_text"
   ]
  }
 ],
 "metadata": {
  "kernelspec": {
   "display_name": "Desafio_Ame_Env",
   "language": "python",
   "name": "python3"
  },
  "language_info": {
   "codemirror_mode": {
    "name": "ipython",
    "version": 3
   },
   "file_extension": ".py",
   "mimetype": "text/x-python",
   "name": "python",
   "nbconvert_exporter": "python",
   "pygments_lexer": "ipython3",
   "version": "3.11.6"
  },
  "orig_nbformat": 4
 },
 "nbformat": 4,
 "nbformat_minor": 2
}
