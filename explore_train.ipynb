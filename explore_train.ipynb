{
 "cells": [
  {
   "cell_type": "code",
   "execution_count": 1,
   "metadata": {},
   "outputs": [],
   "source": [
    "import pandas as pd\n",
    "import matplotlib"
   ]
  },
  {
   "cell_type": "markdown",
   "metadata": {},
   "source": [
    "# Abrir e explorar arquivo"
   ]
  },
  {
   "cell_type": "code",
   "execution_count": 2,
   "metadata": {},
   "outputs": [
    {
     "data": {
      "text/plain": [
       "(79425, 15)"
      ]
     },
     "execution_count": 2,
     "metadata": {},
     "output_type": "execute_result"
    }
   ],
   "source": [
    "df = pd.read_csv('train.csv', low_memory=False, parse_dates=[1])\n",
    "df.shape"
   ]
  },
  {
   "cell_type": "code",
   "execution_count": 3,
   "metadata": {},
   "outputs": [
    {
     "data": {
      "text/html": [
       "<div>\n",
       "<style scoped>\n",
       "    .dataframe tbody tr th:only-of-type {\n",
       "        vertical-align: middle;\n",
       "    }\n",
       "\n",
       "    .dataframe tbody tr th {\n",
       "        vertical-align: top;\n",
       "    }\n",
       "\n",
       "    .dataframe thead th {\n",
       "        text-align: right;\n",
       "    }\n",
       "</style>\n",
       "<table border=\"1\" class=\"dataframe\">\n",
       "  <thead>\n",
       "    <tr style=\"text-align: right;\">\n",
       "      <th></th>\n",
       "      <th>ID</th>\n",
       "      <th>submission_date</th>\n",
       "      <th>reviewer_id</th>\n",
       "      <th>reviewer_birth_year</th>\n",
       "      <th>reviewer_gender</th>\n",
       "      <th>reviewer_state</th>\n",
       "      <th>product_id</th>\n",
       "      <th>product_name</th>\n",
       "      <th>product_brand</th>\n",
       "      <th>site_category_lv1</th>\n",
       "      <th>site_category_lv2</th>\n",
       "      <th>review_title</th>\n",
       "      <th>review_text</th>\n",
       "      <th>recommend_to_a_friend</th>\n",
       "      <th>rating</th>\n",
       "    </tr>\n",
       "  </thead>\n",
       "  <tbody>\n",
       "    <tr>\n",
       "      <th>0</th>\n",
       "      <td>1</td>\n",
       "      <td>2018-01-01 00:11:28</td>\n",
       "      <td>d0fb1ca69422530334178f5c8624aa7a99da47907c44de...</td>\n",
       "      <td>1958.0</td>\n",
       "      <td>F</td>\n",
       "      <td>RJ</td>\n",
       "      <td>132532965</td>\n",
       "      <td>Notebook Asus Vivobook Max X541NA-GO472T Intel...</td>\n",
       "      <td>NaN</td>\n",
       "      <td>Informática</td>\n",
       "      <td>Notebook</td>\n",
       "      <td>Bom</td>\n",
       "      <td>Estou contente com a compra entrega rápida o ú...</td>\n",
       "      <td>Yes</td>\n",
       "      <td>4</td>\n",
       "    </tr>\n",
       "    <tr>\n",
       "      <th>1</th>\n",
       "      <td>2</td>\n",
       "      <td>2018-01-01 00:13:48</td>\n",
       "      <td>014d6dc5a10aed1ff1e6f349fb2b059a2d3de511c7538a...</td>\n",
       "      <td>1996.0</td>\n",
       "      <td>M</td>\n",
       "      <td>SC</td>\n",
       "      <td>22562178</td>\n",
       "      <td>Copo Acrílico Com Canudo 500ml Rocie</td>\n",
       "      <td>NaN</td>\n",
       "      <td>Utilidades Domésticas</td>\n",
       "      <td>Copos, Taças e Canecas</td>\n",
       "      <td>Preço imbatível, ótima qualidade</td>\n",
       "      <td>Por apenas R$1994.20,eu consegui comprar esse ...</td>\n",
       "      <td>Yes</td>\n",
       "      <td>4</td>\n",
       "    </tr>\n",
       "    <tr>\n",
       "      <th>2</th>\n",
       "      <td>3</td>\n",
       "      <td>2018-01-01 00:26:02</td>\n",
       "      <td>44f2c8edd93471926fff601274b8b2b5c4824e386ae4f2...</td>\n",
       "      <td>1984.0</td>\n",
       "      <td>M</td>\n",
       "      <td>SP</td>\n",
       "      <td>113022329</td>\n",
       "      <td>Panela de Pressão Elétrica Philips Walita Dail...</td>\n",
       "      <td>philips walita</td>\n",
       "      <td>Eletroportáteis</td>\n",
       "      <td>Panela Elétrica</td>\n",
       "      <td>ATENDE TODAS AS EXPECTATIVA.</td>\n",
       "      <td>SUPERA EM AGILIDADE E PRATICIDADE OUTRAS PANEL...</td>\n",
       "      <td>Yes</td>\n",
       "      <td>4</td>\n",
       "    </tr>\n",
       "    <tr>\n",
       "      <th>3</th>\n",
       "      <td>4</td>\n",
       "      <td>2018-01-01 01:27:23</td>\n",
       "      <td>28b1844e1cd24dd2288b7cafb052a0b46aed53ab28e1c1...</td>\n",
       "      <td>1979.0</td>\n",
       "      <td>M</td>\n",
       "      <td>PA</td>\n",
       "      <td>22562178</td>\n",
       "      <td>Copo Acrílico Com Canudo 500ml Rocie</td>\n",
       "      <td>NaN</td>\n",
       "      <td>Utilidades Domésticas</td>\n",
       "      <td>Copos, Taças e Canecas</td>\n",
       "      <td>Produto imperdível</td>\n",
       "      <td>Excelente produto, por fora em material acríli...</td>\n",
       "      <td>Yes</td>\n",
       "      <td>5</td>\n",
       "    </tr>\n",
       "    <tr>\n",
       "      <th>4</th>\n",
       "      <td>5</td>\n",
       "      <td>2018-01-01 01:54:38</td>\n",
       "      <td>48907a04d70947344017b351e8fc232bfc80dae2c33ac2...</td>\n",
       "      <td>NaN</td>\n",
       "      <td>NaN</td>\n",
       "      <td>NaN</td>\n",
       "      <td>22562178</td>\n",
       "      <td>Copo Acrílico Com Canudo 500ml Rocie</td>\n",
       "      <td>NaN</td>\n",
       "      <td>Utilidades Domésticas</td>\n",
       "      <td>Copos, Taças e Canecas</td>\n",
       "      <td>ótimo</td>\n",
       "      <td>produto mto bom, com essa garrafinha vc pode a...</td>\n",
       "      <td>Yes</td>\n",
       "      <td>5</td>\n",
       "    </tr>\n",
       "  </tbody>\n",
       "</table>\n",
       "</div>"
      ],
      "text/plain": [
       "   ID     submission_date                                        reviewer_id  \\\n",
       "0   1 2018-01-01 00:11:28  d0fb1ca69422530334178f5c8624aa7a99da47907c44de...   \n",
       "1   2 2018-01-01 00:13:48  014d6dc5a10aed1ff1e6f349fb2b059a2d3de511c7538a...   \n",
       "2   3 2018-01-01 00:26:02  44f2c8edd93471926fff601274b8b2b5c4824e386ae4f2...   \n",
       "3   4 2018-01-01 01:27:23  28b1844e1cd24dd2288b7cafb052a0b46aed53ab28e1c1...   \n",
       "4   5 2018-01-01 01:54:38  48907a04d70947344017b351e8fc232bfc80dae2c33ac2...   \n",
       "\n",
       "   reviewer_birth_year reviewer_gender reviewer_state product_id  \\\n",
       "0               1958.0               F             RJ  132532965   \n",
       "1               1996.0               M             SC   22562178   \n",
       "2               1984.0               M             SP  113022329   \n",
       "3               1979.0               M             PA   22562178   \n",
       "4                  NaN             NaN            NaN   22562178   \n",
       "\n",
       "                                        product_name   product_brand  \\\n",
       "0  Notebook Asus Vivobook Max X541NA-GO472T Intel...             NaN   \n",
       "1               Copo Acrílico Com Canudo 500ml Rocie             NaN   \n",
       "2  Panela de Pressão Elétrica Philips Walita Dail...  philips walita   \n",
       "3               Copo Acrílico Com Canudo 500ml Rocie             NaN   \n",
       "4               Copo Acrílico Com Canudo 500ml Rocie             NaN   \n",
       "\n",
       "       site_category_lv1       site_category_lv2  \\\n",
       "0            Informática                Notebook   \n",
       "1  Utilidades Domésticas  Copos, Taças e Canecas   \n",
       "2        Eletroportáteis         Panela Elétrica   \n",
       "3  Utilidades Domésticas  Copos, Taças e Canecas   \n",
       "4  Utilidades Domésticas  Copos, Taças e Canecas   \n",
       "\n",
       "                       review_title  \\\n",
       "0                               Bom   \n",
       "1  Preço imbatível, ótima qualidade   \n",
       "2      ATENDE TODAS AS EXPECTATIVA.   \n",
       "3                Produto imperdível   \n",
       "4                             ótimo   \n",
       "\n",
       "                                         review_text recommend_to_a_friend  \\\n",
       "0  Estou contente com a compra entrega rápida o ú...                   Yes   \n",
       "1  Por apenas R$1994.20,eu consegui comprar esse ...                   Yes   \n",
       "2  SUPERA EM AGILIDADE E PRATICIDADE OUTRAS PANEL...                   Yes   \n",
       "3  Excelente produto, por fora em material acríli...                   Yes   \n",
       "4  produto mto bom, com essa garrafinha vc pode a...                   Yes   \n",
       "\n",
       "   rating  \n",
       "0       4  \n",
       "1       4  \n",
       "2       4  \n",
       "3       5  \n",
       "4       5  "
      ]
     },
     "execution_count": 3,
     "metadata": {},
     "output_type": "execute_result"
    }
   ],
   "source": [
    "df.head()"
   ]
  },
  {
   "cell_type": "code",
   "execution_count": 4,
   "metadata": {},
   "outputs": [
    {
     "name": "stdout",
     "output_type": "stream",
     "text": [
      "<class 'pandas.core.frame.DataFrame'>\n",
      "RangeIndex: 79425 entries, 0 to 79424\n",
      "Data columns (total 15 columns):\n",
      " #   Column                 Non-Null Count  Dtype         \n",
      "---  ------                 --------------  -----         \n",
      " 0   ID                     79425 non-null  int64         \n",
      " 1   submission_date        79425 non-null  datetime64[ns]\n",
      " 2   reviewer_id            79425 non-null  object        \n",
      " 3   reviewer_birth_year    75874 non-null  float64       \n",
      " 4   reviewer_gender        76941 non-null  object        \n",
      " 5   reviewer_state         77023 non-null  object        \n",
      " 6   product_id             79425 non-null  object        \n",
      " 7   product_name           79373 non-null  object        \n",
      " 8   product_brand          24646 non-null  object        \n",
      " 9   site_category_lv1      79421 non-null  object        \n",
      " 10  site_category_lv2      77007 non-null  object        \n",
      " 11  review_title           79248 non-null  object        \n",
      " 12  review_text            77458 non-null  object        \n",
      " 13  recommend_to_a_friend  79414 non-null  object        \n",
      " 14  rating                 79425 non-null  int64         \n",
      "dtypes: datetime64[ns](1), float64(1), int64(2), object(11)\n",
      "memory usage: 9.1+ MB\n"
     ]
    }
   ],
   "source": [
    "df.info()"
   ]
  },
  {
   "cell_type": "markdown",
   "metadata": {},
   "source": [
    "- Dados completos para: ['ID', 'submission_date', 'reviewer_id', 'product_id', 'rating']\n",
    "- Coluna 'product_brand' faltando 70% dos valores\n"
   ]
  },
  {
   "cell_type": "code",
   "execution_count": 5,
   "metadata": {},
   "outputs": [
    {
     "data": {
      "text/html": [
       "<div>\n",
       "<style scoped>\n",
       "    .dataframe tbody tr th:only-of-type {\n",
       "        vertical-align: middle;\n",
       "    }\n",
       "\n",
       "    .dataframe tbody tr th {\n",
       "        vertical-align: top;\n",
       "    }\n",
       "\n",
       "    .dataframe thead th {\n",
       "        text-align: right;\n",
       "    }\n",
       "</style>\n",
       "<table border=\"1\" class=\"dataframe\">\n",
       "  <thead>\n",
       "    <tr style=\"text-align: right;\">\n",
       "      <th></th>\n",
       "      <th>ID</th>\n",
       "      <th>submission_date</th>\n",
       "      <th>reviewer_birth_year</th>\n",
       "      <th>rating</th>\n",
       "    </tr>\n",
       "  </thead>\n",
       "  <tbody>\n",
       "    <tr>\n",
       "      <th>count</th>\n",
       "      <td>79425.000000</td>\n",
       "      <td>79425</td>\n",
       "      <td>75874.000000</td>\n",
       "      <td>79425.000000</td>\n",
       "    </tr>\n",
       "    <tr>\n",
       "      <th>mean</th>\n",
       "      <td>39713.000000</td>\n",
       "      <td>2018-03-16 22:37:57.901315584</td>\n",
       "      <td>1977.525015</td>\n",
       "      <td>3.486572</td>\n",
       "    </tr>\n",
       "    <tr>\n",
       "      <th>min</th>\n",
       "      <td>1.000000</td>\n",
       "      <td>2018-01-01 00:11:28</td>\n",
       "      <td>59.000000</td>\n",
       "      <td>1.000000</td>\n",
       "    </tr>\n",
       "    <tr>\n",
       "      <th>25%</th>\n",
       "      <td>19857.000000</td>\n",
       "      <td>2018-01-29 10:17:20</td>\n",
       "      <td>1969.000000</td>\n",
       "      <td>2.000000</td>\n",
       "    </tr>\n",
       "    <tr>\n",
       "      <th>50%</th>\n",
       "      <td>39713.000000</td>\n",
       "      <td>2018-03-22 06:15:50</td>\n",
       "      <td>1980.000000</td>\n",
       "      <td>4.000000</td>\n",
       "    </tr>\n",
       "    <tr>\n",
       "      <th>75%</th>\n",
       "      <td>59569.000000</td>\n",
       "      <td>2018-04-24 06:17:54</td>\n",
       "      <td>1987.000000</td>\n",
       "      <td>5.000000</td>\n",
       "    </tr>\n",
       "    <tr>\n",
       "      <th>max</th>\n",
       "      <td>79425.000000</td>\n",
       "      <td>2018-05-31 23:50:33</td>\n",
       "      <td>2018.000000</td>\n",
       "      <td>5.000000</td>\n",
       "    </tr>\n",
       "    <tr>\n",
       "      <th>std</th>\n",
       "      <td>22928.166902</td>\n",
       "      <td>NaN</td>\n",
       "      <td>20.102430</td>\n",
       "      <td>1.532714</td>\n",
       "    </tr>\n",
       "  </tbody>\n",
       "</table>\n",
       "</div>"
      ],
      "text/plain": [
       "                 ID                submission_date  reviewer_birth_year  \\\n",
       "count  79425.000000                          79425         75874.000000   \n",
       "mean   39713.000000  2018-03-16 22:37:57.901315584          1977.525015   \n",
       "min        1.000000            2018-01-01 00:11:28            59.000000   \n",
       "25%    19857.000000            2018-01-29 10:17:20          1969.000000   \n",
       "50%    39713.000000            2018-03-22 06:15:50          1980.000000   \n",
       "75%    59569.000000            2018-04-24 06:17:54          1987.000000   \n",
       "max    79425.000000            2018-05-31 23:50:33          2018.000000   \n",
       "std    22928.166902                            NaN            20.102430   \n",
       "\n",
       "             rating  \n",
       "count  79425.000000  \n",
       "mean       3.486572  \n",
       "min        1.000000  \n",
       "25%        2.000000  \n",
       "50%        4.000000  \n",
       "75%        5.000000  \n",
       "max        5.000000  \n",
       "std        1.532714  "
      ]
     },
     "execution_count": 5,
     "metadata": {},
     "output_type": "execute_result"
    }
   ],
   "source": [
    "df.describe()"
   ]
  },
  {
   "cell_type": "markdown",
   "metadata": {},
   "source": [
    "- Some errors in column 'reviewr_birth_year' (min = 59, max = 2018)"
   ]
  },
  {
   "cell_type": "markdown",
   "metadata": {},
   "source": [
    "# Balanceamento das saída (rating)"
   ]
  },
  {
   "cell_type": "code",
   "execution_count": 6,
   "metadata": {},
   "outputs": [
    {
     "data": {
      "text/plain": [
       "<Axes: title={'center': 'Contagem de rating'}, xlabel='rating'>"
      ]
     },
     "execution_count": 6,
     "metadata": {},
     "output_type": "execute_result"
    },
    {
     "data": {
      "image/png": "[encoded data removed]",
      "text/plain": [
       "<Figure size 640x480 with 1 Axes>"
      ]
     },
     "metadata": {},
     "output_type": "display_data"
    }
   ],
   "source": [
    "#Balanciamento dos ratings\n",
    "\n",
    "df.rating.value_counts(normalize=True).sort_index().plot(kind='bar', title='Contagem de rating')"
   ]
  },
  {
   "cell_type": "markdown",
   "metadata": {},
   "source": [
    "Enquanto 35% das avaliações são de 5 pts, apenas 5% são de 2 pts. Desbalanço siognificativo."
   ]
  },
  {
   "cell_type": "markdown",
   "metadata": {},
   "source": [
    "# Busca por correlações e informações dos campos"
   ]
  },
  {
   "cell_type": "markdown",
   "metadata": {},
   "source": [
    "## recommend_to_a_frient"
   ]
  },
  {
   "cell_type": "code",
   "execution_count": 7,
   "metadata": {},
   "outputs": [
    {
     "data": {
      "text/plain": [
       "recommend_to_a_friend\n",
       "Yes    57671\n",
       "No     21743\n",
       "Name: count, dtype: int64"
      ]
     },
     "execution_count": 7,
     "metadata": {},
     "output_type": "execute_result"
    }
   ],
   "source": [
    "df.recommend_to_a_friend.value_counts()"
   ]
  },
  {
   "cell_type": "code",
   "execution_count": 8,
   "metadata": {},
   "outputs": [
    {
     "data": {
      "text/plain": [
       "<Axes: xlabel='rating'>"
      ]
     },
     "execution_count": 8,
     "metadata": {},
     "output_type": "execute_result"
    },
    {
     "data": {
      "image/png": "[encoded data removed]",
      "text/plain": [
       "<Figure size 640x480 with 1 Axes>"
      ]
     },
     "metadata": {},
     "output_type": "display_data"
    }
   ],
   "source": [
    "df[df['recommend_to_a_friend']=='Yes'].rating.value_counts().plot(kind='bar')"
   ]
  },
  {
   "cell_type": "code",
   "execution_count": 9,
   "metadata": {},
   "outputs": [
    {
     "data": {
      "text/plain": [
       "<Axes: xlabel='rating'>"
      ]
     },
     "execution_count": 9,
     "metadata": {},
     "output_type": "execute_result"
    },
    {
     "data": {
      "image/png": "[encoded data removed]",
      "text/plain": [
       "<Figure size 640x480 with 1 Axes>"
      ]
     },
     "metadata": {},
     "output_type": "display_data"
    }
   ],
   "source": [
    "df[df['recommend_to_a_friend']=='No'].rating.value_counts().plot(kind='bar')"
   ]
  },
  {
   "cell_type": "markdown",
   "metadata": {},
   "source": [
    "## reviewer_birth_year"
   ]
  },
  {
   "cell_type": "code",
   "execution_count": 10,
   "metadata": {},
   "outputs": [
    {
     "data": {
      "text/html": [
       "<div>\n",
       "<style scoped>\n",
       "    .dataframe tbody tr th:only-of-type {\n",
       "        vertical-align: middle;\n",
       "    }\n",
       "\n",
       "    .dataframe tbody tr th {\n",
       "        vertical-align: top;\n",
       "    }\n",
       "\n",
       "    .dataframe thead th {\n",
       "        text-align: right;\n",
       "    }\n",
       "</style>\n",
       "<table border=\"1\" class=\"dataframe\">\n",
       "  <thead>\n",
       "    <tr style=\"text-align: right;\">\n",
       "      <th></th>\n",
       "      <th>reviewer_birth_year</th>\n",
       "      <th>rating</th>\n",
       "    </tr>\n",
       "  </thead>\n",
       "  <tbody>\n",
       "    <tr>\n",
       "      <th>reviewer_birth_year</th>\n",
       "      <td>1.000000</td>\n",
       "      <td>0.002679</td>\n",
       "    </tr>\n",
       "    <tr>\n",
       "      <th>rating</th>\n",
       "      <td>0.002679</td>\n",
       "      <td>1.000000</td>\n",
       "    </tr>\n",
       "  </tbody>\n",
       "</table>\n",
       "</div>"
      ],
      "text/plain": [
       "                     reviewer_birth_year    rating\n",
       "reviewer_birth_year             1.000000  0.002679\n",
       "rating                          0.002679  1.000000"
      ]
     },
     "execution_count": 10,
     "metadata": {},
     "output_type": "execute_result"
    }
   ],
   "source": [
    "#Correlação entre idade e avaliação\n",
    "\n",
    "df[['reviewer_birth_year','rating']].corr()"
   ]
  },
  {
   "cell_type": "markdown",
   "metadata": {},
   "source": [
    "Não há correlação óbvia entre data de nascimento e ratings... mas é bom verificar se não há alguma correlação 'não linear'."
   ]
  },
  {
   "cell_type": "code",
   "execution_count": 11,
   "metadata": {},
   "outputs": [
    {
     "data": {
      "text/plain": [
       "reviewer_birth_year\n",
       "59.0      1\n",
       "61.0      1\n",
       "66.0      1\n",
       "78.0      1\n",
       "88.0      1\n",
       "         ..\n",
       "2008.0    2\n",
       "2009.0    7\n",
       "2010.0    7\n",
       "2017.0    3\n",
       "2018.0    3\n",
       "Name: count, Length: 110, dtype: int64"
      ]
     },
     "execution_count": 11,
     "metadata": {},
     "output_type": "execute_result"
    }
   ],
   "source": [
    "df.reviewer_birth_year.value_counts().sort_index()"
   ]
  },
  {
   "cell_type": "code",
   "execution_count": 12,
   "metadata": {},
   "outputs": [
    {
     "data": {
      "image/png": "[encoded data removed]",
      "text/plain": [
       "<Figure size 640x480 with 1 Axes>"
      ]
     },
     "metadata": {},
     "output_type": "display_data"
    }
   ],
   "source": [
    "ax = df.reviewer_birth_year.plot.hist(bins=20)"
   ]
  },
  {
   "cell_type": "markdown",
   "metadata": {},
   "source": [
    "Algumas revisões contém erros no ano (falta o 1900, ou aparente inversão de números)... a princípio, ignoremos"
   ]
  },
  {
   "cell_type": "code",
   "execution_count": 13,
   "metadata": {},
   "outputs": [
    {
     "data": {
      "image/png": "[encoded data removed]",
      "text/plain": [
       "<Figure size 640x480 with 1 Axes>"
      ]
     },
     "metadata": {},
     "output_type": "display_data"
    }
   ],
   "source": [
    "ax = df[df['reviewer_birth_year']>1900].reviewer_birth_year.plot.hist(bins=20)"
   ]
  },
  {
   "cell_type": "code",
   "execution_count": 14,
   "metadata": {},
   "outputs": [],
   "source": [
    "# Criar um campo de décadas para buscar alguma correlação não linear entre idade e rating\n",
    "df['decada'] = df['reviewer_birth_year'].apply(lambda x: x // 10 *10)\n"
   ]
  },
  {
   "cell_type": "code",
   "execution_count": 15,
   "metadata": {},
   "outputs": [
    {
     "data": {
      "text/html": [
       "<div>\n",
       "<style scoped>\n",
       "    .dataframe tbody tr th:only-of-type {\n",
       "        vertical-align: middle;\n",
       "    }\n",
       "\n",
       "    .dataframe tbody tr th {\n",
       "        vertical-align: top;\n",
       "    }\n",
       "\n",
       "    .dataframe thead th {\n",
       "        text-align: right;\n",
       "    }\n",
       "</style>\n",
       "<table border=\"1\" class=\"dataframe\">\n",
       "  <thead>\n",
       "    <tr style=\"text-align: right;\">\n",
       "      <th></th>\n",
       "      <th>count</th>\n",
       "      <th>mean</th>\n",
       "      <th>std</th>\n",
       "      <th>min</th>\n",
       "      <th>25%</th>\n",
       "      <th>50%</th>\n",
       "      <th>75%</th>\n",
       "      <th>max</th>\n",
       "    </tr>\n",
       "    <tr>\n",
       "      <th>decada</th>\n",
       "      <th></th>\n",
       "      <th></th>\n",
       "      <th></th>\n",
       "      <th></th>\n",
       "      <th></th>\n",
       "      <th></th>\n",
       "      <th></th>\n",
       "      <th></th>\n",
       "    </tr>\n",
       "  </thead>\n",
       "  <tbody>\n",
       "    <tr>\n",
       "      <th>50.0</th>\n",
       "      <td>1.0</td>\n",
       "      <td>4.000000</td>\n",
       "      <td>NaN</td>\n",
       "      <td>4.0</td>\n",
       "      <td>4.00</td>\n",
       "      <td>4.0</td>\n",
       "      <td>4.00</td>\n",
       "      <td>4.0</td>\n",
       "    </tr>\n",
       "    <tr>\n",
       "      <th>60.0</th>\n",
       "      <td>2.0</td>\n",
       "      <td>3.500000</td>\n",
       "      <td>2.121320</td>\n",
       "      <td>2.0</td>\n",
       "      <td>2.75</td>\n",
       "      <td>3.5</td>\n",
       "      <td>4.25</td>\n",
       "      <td>5.0</td>\n",
       "    </tr>\n",
       "    <tr>\n",
       "      <th>70.0</th>\n",
       "      <td>1.0</td>\n",
       "      <td>1.000000</td>\n",
       "      <td>NaN</td>\n",
       "      <td>1.0</td>\n",
       "      <td>1.00</td>\n",
       "      <td>1.0</td>\n",
       "      <td>1.00</td>\n",
       "      <td>1.0</td>\n",
       "    </tr>\n",
       "    <tr>\n",
       "      <th>80.0</th>\n",
       "      <td>1.0</td>\n",
       "      <td>4.000000</td>\n",
       "      <td>NaN</td>\n",
       "      <td>4.0</td>\n",
       "      <td>4.00</td>\n",
       "      <td>4.0</td>\n",
       "      <td>4.00</td>\n",
       "      <td>4.0</td>\n",
       "    </tr>\n",
       "    <tr>\n",
       "      <th>1890.0</th>\n",
       "      <td>1.0</td>\n",
       "      <td>3.000000</td>\n",
       "      <td>NaN</td>\n",
       "      <td>3.0</td>\n",
       "      <td>3.00</td>\n",
       "      <td>3.0</td>\n",
       "      <td>3.00</td>\n",
       "      <td>3.0</td>\n",
       "    </tr>\n",
       "    <tr>\n",
       "      <th>1900.0</th>\n",
       "      <td>21.0</td>\n",
       "      <td>3.190476</td>\n",
       "      <td>1.470342</td>\n",
       "      <td>1.0</td>\n",
       "      <td>2.00</td>\n",
       "      <td>3.0</td>\n",
       "      <td>4.00</td>\n",
       "      <td>5.0</td>\n",
       "    </tr>\n",
       "    <tr>\n",
       "      <th>1910.0</th>\n",
       "      <td>6.0</td>\n",
       "      <td>2.666667</td>\n",
       "      <td>1.211060</td>\n",
       "      <td>1.0</td>\n",
       "      <td>2.00</td>\n",
       "      <td>2.5</td>\n",
       "      <td>3.75</td>\n",
       "      <td>4.0</td>\n",
       "    </tr>\n",
       "    <tr>\n",
       "      <th>1920.0</th>\n",
       "      <td>23.0</td>\n",
       "      <td>3.130435</td>\n",
       "      <td>1.632186</td>\n",
       "      <td>1.0</td>\n",
       "      <td>1.50</td>\n",
       "      <td>3.0</td>\n",
       "      <td>5.00</td>\n",
       "      <td>5.0</td>\n",
       "    </tr>\n",
       "    <tr>\n",
       "      <th>1930.0</th>\n",
       "      <td>213.0</td>\n",
       "      <td>3.497653</td>\n",
       "      <td>1.546830</td>\n",
       "      <td>1.0</td>\n",
       "      <td>2.00</td>\n",
       "      <td>4.0</td>\n",
       "      <td>5.00</td>\n",
       "      <td>5.0</td>\n",
       "    </tr>\n",
       "    <tr>\n",
       "      <th>1940.0</th>\n",
       "      <td>1495.0</td>\n",
       "      <td>3.636789</td>\n",
       "      <td>1.408945</td>\n",
       "      <td>1.0</td>\n",
       "      <td>3.00</td>\n",
       "      <td>4.0</td>\n",
       "      <td>5.00</td>\n",
       "      <td>5.0</td>\n",
       "    </tr>\n",
       "    <tr>\n",
       "      <th>1950.0</th>\n",
       "      <td>5999.0</td>\n",
       "      <td>3.567928</td>\n",
       "      <td>1.427360</td>\n",
       "      <td>1.0</td>\n",
       "      <td>3.00</td>\n",
       "      <td>4.0</td>\n",
       "      <td>5.00</td>\n",
       "      <td>5.0</td>\n",
       "    </tr>\n",
       "    <tr>\n",
       "      <th>1960.0</th>\n",
       "      <td>11491.0</td>\n",
       "      <td>3.478287</td>\n",
       "      <td>1.481987</td>\n",
       "      <td>1.0</td>\n",
       "      <td>2.00</td>\n",
       "      <td>4.0</td>\n",
       "      <td>5.00</td>\n",
       "      <td>5.0</td>\n",
       "    </tr>\n",
       "    <tr>\n",
       "      <th>1970.0</th>\n",
       "      <td>18128.0</td>\n",
       "      <td>3.426853</td>\n",
       "      <td>1.534276</td>\n",
       "      <td>1.0</td>\n",
       "      <td>2.00</td>\n",
       "      <td>4.0</td>\n",
       "      <td>5.00</td>\n",
       "      <td>5.0</td>\n",
       "    </tr>\n",
       "    <tr>\n",
       "      <th>1980.0</th>\n",
       "      <td>24462.0</td>\n",
       "      <td>3.433652</td>\n",
       "      <td>1.560492</td>\n",
       "      <td>1.0</td>\n",
       "      <td>2.00</td>\n",
       "      <td>4.0</td>\n",
       "      <td>5.00</td>\n",
       "      <td>5.0</td>\n",
       "    </tr>\n",
       "    <tr>\n",
       "      <th>1990.0</th>\n",
       "      <td>13540.0</td>\n",
       "      <td>3.581093</td>\n",
       "      <td>1.553011</td>\n",
       "      <td>1.0</td>\n",
       "      <td>2.00</td>\n",
       "      <td>4.0</td>\n",
       "      <td>5.00</td>\n",
       "      <td>5.0</td>\n",
       "    </tr>\n",
       "    <tr>\n",
       "      <th>2000.0</th>\n",
       "      <td>477.0</td>\n",
       "      <td>3.735849</td>\n",
       "      <td>1.512356</td>\n",
       "      <td>1.0</td>\n",
       "      <td>3.00</td>\n",
       "      <td>4.0</td>\n",
       "      <td>5.00</td>\n",
       "      <td>5.0</td>\n",
       "    </tr>\n",
       "    <tr>\n",
       "      <th>2010.0</th>\n",
       "      <td>13.0</td>\n",
       "      <td>4.076923</td>\n",
       "      <td>0.493548</td>\n",
       "      <td>3.0</td>\n",
       "      <td>4.00</td>\n",
       "      <td>4.0</td>\n",
       "      <td>4.00</td>\n",
       "      <td>5.0</td>\n",
       "    </tr>\n",
       "  </tbody>\n",
       "</table>\n",
       "</div>"
      ],
      "text/plain": [
       "          count      mean       std  min   25%  50%   75%  max\n",
       "decada                                                        \n",
       "50.0        1.0  4.000000       NaN  4.0  4.00  4.0  4.00  4.0\n",
       "60.0        2.0  3.500000  2.121320  2.0  2.75  3.5  4.25  5.0\n",
       "70.0        1.0  1.000000       NaN  1.0  1.00  1.0  1.00  1.0\n",
       "80.0        1.0  4.000000       NaN  4.0  4.00  4.0  4.00  4.0\n",
       "1890.0      1.0  3.000000       NaN  3.0  3.00  3.0  3.00  3.0\n",
       "1900.0     21.0  3.190476  1.470342  1.0  2.00  3.0  4.00  5.0\n",
       "1910.0      6.0  2.666667  1.211060  1.0  2.00  2.5  3.75  4.0\n",
       "1920.0     23.0  3.130435  1.632186  1.0  1.50  3.0  5.00  5.0\n",
       "1930.0    213.0  3.497653  1.546830  1.0  2.00  4.0  5.00  5.0\n",
       "1940.0   1495.0  3.636789  1.408945  1.0  3.00  4.0  5.00  5.0\n",
       "1950.0   5999.0  3.567928  1.427360  1.0  3.00  4.0  5.00  5.0\n",
       "1960.0  11491.0  3.478287  1.481987  1.0  2.00  4.0  5.00  5.0\n",
       "1970.0  18128.0  3.426853  1.534276  1.0  2.00  4.0  5.00  5.0\n",
       "1980.0  24462.0  3.433652  1.560492  1.0  2.00  4.0  5.00  5.0\n",
       "1990.0  13540.0  3.581093  1.553011  1.0  2.00  4.0  5.00  5.0\n",
       "2000.0    477.0  3.735849  1.512356  1.0  3.00  4.0  5.00  5.0\n",
       "2010.0     13.0  4.076923  0.493548  3.0  4.00  4.0  4.00  5.0"
      ]
     },
     "execution_count": 15,
     "metadata": {},
     "output_type": "execute_result"
    }
   ],
   "source": [
    "df.groupby('decada').rating.describe()"
   ]
  },
  {
   "cell_type": "code",
   "execution_count": 16,
   "metadata": {},
   "outputs": [
    {
     "data": {
      "text/plain": [
       "<Axes: xlabel='decada'>"
      ]
     },
     "execution_count": 16,
     "metadata": {},
     "output_type": "execute_result"
    },
    {
     "data": {
      "image/png": "[encoded data removed]",
      "text/plain": [
       "<Figure size 640x480 with 1 Axes>"
      ]
     },
     "metadata": {},
     "output_type": "display_data"
    }
   ],
   "source": [
    "df[df['decada']>1920].groupby('decada').rating.mean().plot()"
   ]
  },
  {
   "cell_type": "markdown",
   "metadata": {},
   "source": [
    "Aparente relação entre idade e média do rating, porém não maior que 0.5 pontos"
   ]
  },
  {
   "cell_type": "code",
   "execution_count": 17,
   "metadata": {},
   "outputs": [
    {
     "data": {
      "text/plain": [
       "<Axes: xlabel='decada'>"
      ]
     },
     "execution_count": 17,
     "metadata": {},
     "output_type": "execute_result"
    },
    {
     "data": {
      "image/png": "[encoded data removed]",
      "text/plain": [
       "<Figure size 640x480 with 1 Axes>"
      ]
     },
     "metadata": {},
     "output_type": "display_data"
    }
   ],
   "source": [
    "df[df['decada']>1920].groupby('decada').rating.std().plot()"
   ]
  },
  {
   "cell_type": "markdown",
   "metadata": {},
   "source": [
    "Pouca variação no desvio dos ratings (exceção decada de 2010, com poucos tarings):"
   ]
  },
  {
   "cell_type": "code",
   "execution_count": 18,
   "metadata": {},
   "outputs": [
    {
     "data": {
      "text/plain": [
       "<Axes: xlabel='decada'>"
      ]
     },
     "execution_count": 18,
     "metadata": {},
     "output_type": "execute_result"
    },
    {
     "data": {
      "image/png": "[encoded data removed]",
      "text/plain": [
       "<Figure size 640x480 with 1 Axes>"
      ]
     },
     "metadata": {},
     "output_type": "display_data"
    }
   ],
   "source": [
    "df[df['decada']>1920].groupby('decada').rating.count().plot(kind='bar')"
   ]
  },
  {
   "cell_type": "markdown",
   "metadata": {},
   "source": [
    "## reviewer_gender"
   ]
  },
  {
   "cell_type": "code",
   "execution_count": 19,
   "metadata": {},
   "outputs": [
    {
     "data": {
      "text/plain": [
       "reviewer_gender\n",
       "M    39561\n",
       "F    37380\n",
       "Name: count, dtype: int64"
      ]
     },
     "execution_count": 19,
     "metadata": {},
     "output_type": "execute_result"
    }
   ],
   "source": [
    "# Variação por gênero\n",
    "\n",
    "df.reviewer_gender.value_counts()"
   ]
  },
  {
   "cell_type": "code",
   "execution_count": 20,
   "metadata": {},
   "outputs": [
    {
     "data": {
      "text/html": [
       "<div>\n",
       "<style scoped>\n",
       "    .dataframe tbody tr th:only-of-type {\n",
       "        vertical-align: middle;\n",
       "    }\n",
       "\n",
       "    .dataframe tbody tr th {\n",
       "        vertical-align: top;\n",
       "    }\n",
       "\n",
       "    .dataframe thead tr th {\n",
       "        text-align: left;\n",
       "    }\n",
       "\n",
       "    .dataframe thead tr:last-of-type th {\n",
       "        text-align: right;\n",
       "    }\n",
       "</style>\n",
       "<table border=\"1\" class=\"dataframe\">\n",
       "  <thead>\n",
       "    <tr>\n",
       "      <th></th>\n",
       "      <th colspan=\"8\" halign=\"left\">rating</th>\n",
       "    </tr>\n",
       "    <tr>\n",
       "      <th></th>\n",
       "      <th>count</th>\n",
       "      <th>mean</th>\n",
       "      <th>std</th>\n",
       "      <th>min</th>\n",
       "      <th>25%</th>\n",
       "      <th>50%</th>\n",
       "      <th>75%</th>\n",
       "      <th>max</th>\n",
       "    </tr>\n",
       "    <tr>\n",
       "      <th>reviewer_gender</th>\n",
       "      <th></th>\n",
       "      <th></th>\n",
       "      <th></th>\n",
       "      <th></th>\n",
       "      <th></th>\n",
       "      <th></th>\n",
       "      <th></th>\n",
       "      <th></th>\n",
       "    </tr>\n",
       "  </thead>\n",
       "  <tbody>\n",
       "    <tr>\n",
       "      <th>F</th>\n",
       "      <td>37380.0</td>\n",
       "      <td>3.512868</td>\n",
       "      <td>1.515191</td>\n",
       "      <td>1.0</td>\n",
       "      <td>2.0</td>\n",
       "      <td>4.0</td>\n",
       "      <td>5.0</td>\n",
       "      <td>5.0</td>\n",
       "    </tr>\n",
       "    <tr>\n",
       "      <th>M</th>\n",
       "      <td>39561.0</td>\n",
       "      <td>3.450621</td>\n",
       "      <td>1.542848</td>\n",
       "      <td>1.0</td>\n",
       "      <td>2.0</td>\n",
       "      <td>4.0</td>\n",
       "      <td>5.0</td>\n",
       "      <td>5.0</td>\n",
       "    </tr>\n",
       "  </tbody>\n",
       "</table>\n",
       "</div>"
      ],
      "text/plain": [
       "                  rating                                             \n",
       "                   count      mean       std  min  25%  50%  75%  max\n",
       "reviewer_gender                                                      \n",
       "F                37380.0  3.512868  1.515191  1.0  2.0  4.0  5.0  5.0\n",
       "M                39561.0  3.450621  1.542848  1.0  2.0  4.0  5.0  5.0"
      ]
     },
     "execution_count": 20,
     "metadata": {},
     "output_type": "execute_result"
    }
   ],
   "source": [
    "df[['reviewer_gender','rating']].groupby(['reviewer_gender']).describe()"
   ]
  },
  {
   "cell_type": "code",
   "execution_count": 21,
   "metadata": {},
   "outputs": [
    {
     "data": {
      "text/plain": [
       "F         Axes(0.1,0.15;0.363636x0.75)\n",
       "M    Axes(0.536364,0.15;0.363636x0.75)\n",
       "dtype: object"
      ]
     },
     "execution_count": 21,
     "metadata": {},
     "output_type": "execute_result"
    },
    {
     "data": {
      "image/png": "[encoded data removed]",
      "text/plain": [
       "<Figure size 640x480 with 2 Axes>"
      ]
     },
     "metadata": {},
     "output_type": "display_data"
    }
   ],
   "source": [
    "df.groupby('reviewer_gender').boxplot(column='rating')"
   ]
  },
  {
   "cell_type": "markdown",
   "metadata": {},
   "source": [
    "não parece haver correlação relevante"
   ]
  },
  {
   "cell_type": "markdown",
   "metadata": {},
   "source": [
    "# reviewer_state"
   ]
  },
  {
   "cell_type": "code",
   "execution_count": 22,
   "metadata": {},
   "outputs": [
    {
     "data": {
      "text/plain": [
       "reviewer_state\n",
       "SP    29521\n",
       "RJ    10577\n",
       "MG     9794\n",
       "PR     4002\n",
       "RS     3944\n",
       "BA     2918\n",
       "SC     2618\n",
       "ES     1834\n",
       "PE     1825\n",
       "GO     1536\n",
       "DF     1434\n",
       "CE     1301\n",
       "PA      894\n",
       "MA      691\n",
       "MT      611\n",
       "RN      564\n",
       "PB      524\n",
       "MS      509\n",
       "AL      474\n",
       "PI      440\n",
       "SE      332\n",
       "TO      235\n",
       "RO      169\n",
       "AM      116\n",
       "AP       66\n",
       "AC       53\n",
       "RR       41\n",
       "Name: count, dtype: int64"
      ]
     },
     "execution_count": 22,
     "metadata": {},
     "output_type": "execute_result"
    }
   ],
   "source": [
    "df.reviewer_state.value_counts()"
   ]
  },
  {
   "cell_type": "code",
   "execution_count": 23,
   "metadata": {},
   "outputs": [
    {
     "data": {
      "text/html": [
       "<div>\n",
       "<style scoped>\n",
       "    .dataframe tbody tr th:only-of-type {\n",
       "        vertical-align: middle;\n",
       "    }\n",
       "\n",
       "    .dataframe tbody tr th {\n",
       "        vertical-align: top;\n",
       "    }\n",
       "\n",
       "    .dataframe thead tr th {\n",
       "        text-align: left;\n",
       "    }\n",
       "\n",
       "    .dataframe thead tr:last-of-type th {\n",
       "        text-align: right;\n",
       "    }\n",
       "</style>\n",
       "<table border=\"1\" class=\"dataframe\">\n",
       "  <thead>\n",
       "    <tr>\n",
       "      <th></th>\n",
       "      <th colspan=\"8\" halign=\"left\">rating</th>\n",
       "    </tr>\n",
       "    <tr>\n",
       "      <th></th>\n",
       "      <th>count</th>\n",
       "      <th>mean</th>\n",
       "      <th>std</th>\n",
       "      <th>min</th>\n",
       "      <th>25%</th>\n",
       "      <th>50%</th>\n",
       "      <th>75%</th>\n",
       "      <th>max</th>\n",
       "    </tr>\n",
       "    <tr>\n",
       "      <th>reviewer_state</th>\n",
       "      <th></th>\n",
       "      <th></th>\n",
       "      <th></th>\n",
       "      <th></th>\n",
       "      <th></th>\n",
       "      <th></th>\n",
       "      <th></th>\n",
       "      <th></th>\n",
       "    </tr>\n",
       "  </thead>\n",
       "  <tbody>\n",
       "    <tr>\n",
       "      <th>AC</th>\n",
       "      <td>53.0</td>\n",
       "      <td>3.547170</td>\n",
       "      <td>1.612046</td>\n",
       "      <td>1.0</td>\n",
       "      <td>2.0</td>\n",
       "      <td>4.0</td>\n",
       "      <td>5.0</td>\n",
       "      <td>5.0</td>\n",
       "    </tr>\n",
       "    <tr>\n",
       "      <th>AL</th>\n",
       "      <td>474.0</td>\n",
       "      <td>3.508439</td>\n",
       "      <td>1.563637</td>\n",
       "      <td>1.0</td>\n",
       "      <td>2.0</td>\n",
       "      <td>4.0</td>\n",
       "      <td>5.0</td>\n",
       "      <td>5.0</td>\n",
       "    </tr>\n",
       "    <tr>\n",
       "      <th>AM</th>\n",
       "      <td>116.0</td>\n",
       "      <td>3.336207</td>\n",
       "      <td>1.593159</td>\n",
       "      <td>1.0</td>\n",
       "      <td>2.0</td>\n",
       "      <td>4.0</td>\n",
       "      <td>5.0</td>\n",
       "      <td>5.0</td>\n",
       "    </tr>\n",
       "    <tr>\n",
       "      <th>AP</th>\n",
       "      <td>66.0</td>\n",
       "      <td>3.560606</td>\n",
       "      <td>1.520413</td>\n",
       "      <td>1.0</td>\n",
       "      <td>3.0</td>\n",
       "      <td>4.0</td>\n",
       "      <td>5.0</td>\n",
       "      <td>5.0</td>\n",
       "    </tr>\n",
       "    <tr>\n",
       "      <th>BA</th>\n",
       "      <td>2918.0</td>\n",
       "      <td>3.371487</td>\n",
       "      <td>1.534129</td>\n",
       "      <td>1.0</td>\n",
       "      <td>2.0</td>\n",
       "      <td>4.0</td>\n",
       "      <td>5.0</td>\n",
       "      <td>5.0</td>\n",
       "    </tr>\n",
       "    <tr>\n",
       "      <th>CE</th>\n",
       "      <td>1301.0</td>\n",
       "      <td>3.441199</td>\n",
       "      <td>1.583752</td>\n",
       "      <td>1.0</td>\n",
       "      <td>2.0</td>\n",
       "      <td>4.0</td>\n",
       "      <td>5.0</td>\n",
       "      <td>5.0</td>\n",
       "    </tr>\n",
       "    <tr>\n",
       "      <th>DF</th>\n",
       "      <td>1434.0</td>\n",
       "      <td>3.495119</td>\n",
       "      <td>1.505622</td>\n",
       "      <td>1.0</td>\n",
       "      <td>2.0</td>\n",
       "      <td>4.0</td>\n",
       "      <td>5.0</td>\n",
       "      <td>5.0</td>\n",
       "    </tr>\n",
       "    <tr>\n",
       "      <th>ES</th>\n",
       "      <td>1834.0</td>\n",
       "      <td>3.427481</td>\n",
       "      <td>1.534981</td>\n",
       "      <td>1.0</td>\n",
       "      <td>2.0</td>\n",
       "      <td>4.0</td>\n",
       "      <td>5.0</td>\n",
       "      <td>5.0</td>\n",
       "    </tr>\n",
       "    <tr>\n",
       "      <th>GO</th>\n",
       "      <td>1536.0</td>\n",
       "      <td>3.509766</td>\n",
       "      <td>1.555039</td>\n",
       "      <td>1.0</td>\n",
       "      <td>2.0</td>\n",
       "      <td>4.0</td>\n",
       "      <td>5.0</td>\n",
       "      <td>5.0</td>\n",
       "    </tr>\n",
       "    <tr>\n",
       "      <th>MA</th>\n",
       "      <td>691.0</td>\n",
       "      <td>3.434153</td>\n",
       "      <td>1.531199</td>\n",
       "      <td>1.0</td>\n",
       "      <td>2.0</td>\n",
       "      <td>4.0</td>\n",
       "      <td>5.0</td>\n",
       "      <td>5.0</td>\n",
       "    </tr>\n",
       "    <tr>\n",
       "      <th>MG</th>\n",
       "      <td>9794.0</td>\n",
       "      <td>3.501123</td>\n",
       "      <td>1.517201</td>\n",
       "      <td>1.0</td>\n",
       "      <td>2.0</td>\n",
       "      <td>4.0</td>\n",
       "      <td>5.0</td>\n",
       "      <td>5.0</td>\n",
       "    </tr>\n",
       "    <tr>\n",
       "      <th>MS</th>\n",
       "      <td>509.0</td>\n",
       "      <td>3.418468</td>\n",
       "      <td>1.578564</td>\n",
       "      <td>1.0</td>\n",
       "      <td>2.0</td>\n",
       "      <td>4.0</td>\n",
       "      <td>5.0</td>\n",
       "      <td>5.0</td>\n",
       "    </tr>\n",
       "    <tr>\n",
       "      <th>MT</th>\n",
       "      <td>611.0</td>\n",
       "      <td>3.399345</td>\n",
       "      <td>1.539938</td>\n",
       "      <td>1.0</td>\n",
       "      <td>2.0</td>\n",
       "      <td>4.0</td>\n",
       "      <td>5.0</td>\n",
       "      <td>5.0</td>\n",
       "    </tr>\n",
       "    <tr>\n",
       "      <th>PA</th>\n",
       "      <td>894.0</td>\n",
       "      <td>3.445190</td>\n",
       "      <td>1.584787</td>\n",
       "      <td>1.0</td>\n",
       "      <td>2.0</td>\n",
       "      <td>4.0</td>\n",
       "      <td>5.0</td>\n",
       "      <td>5.0</td>\n",
       "    </tr>\n",
       "    <tr>\n",
       "      <th>PB</th>\n",
       "      <td>524.0</td>\n",
       "      <td>3.564885</td>\n",
       "      <td>1.542758</td>\n",
       "      <td>1.0</td>\n",
       "      <td>2.0</td>\n",
       "      <td>4.0</td>\n",
       "      <td>5.0</td>\n",
       "      <td>5.0</td>\n",
       "    </tr>\n",
       "    <tr>\n",
       "      <th>PE</th>\n",
       "      <td>1825.0</td>\n",
       "      <td>3.591781</td>\n",
       "      <td>1.517240</td>\n",
       "      <td>1.0</td>\n",
       "      <td>3.0</td>\n",
       "      <td>4.0</td>\n",
       "      <td>5.0</td>\n",
       "      <td>5.0</td>\n",
       "    </tr>\n",
       "    <tr>\n",
       "      <th>PI</th>\n",
       "      <td>440.0</td>\n",
       "      <td>3.306818</td>\n",
       "      <td>1.613990</td>\n",
       "      <td>1.0</td>\n",
       "      <td>1.0</td>\n",
       "      <td>4.0</td>\n",
       "      <td>5.0</td>\n",
       "      <td>5.0</td>\n",
       "    </tr>\n",
       "    <tr>\n",
       "      <th>PR</th>\n",
       "      <td>4002.0</td>\n",
       "      <td>3.616692</td>\n",
       "      <td>1.501312</td>\n",
       "      <td>1.0</td>\n",
       "      <td>3.0</td>\n",
       "      <td>4.0</td>\n",
       "      <td>5.0</td>\n",
       "      <td>5.0</td>\n",
       "    </tr>\n",
       "    <tr>\n",
       "      <th>RJ</th>\n",
       "      <td>10577.0</td>\n",
       "      <td>3.379030</td>\n",
       "      <td>1.579268</td>\n",
       "      <td>1.0</td>\n",
       "      <td>2.0</td>\n",
       "      <td>4.0</td>\n",
       "      <td>5.0</td>\n",
       "      <td>5.0</td>\n",
       "    </tr>\n",
       "    <tr>\n",
       "      <th>RN</th>\n",
       "      <td>564.0</td>\n",
       "      <td>3.421986</td>\n",
       "      <td>1.526304</td>\n",
       "      <td>1.0</td>\n",
       "      <td>2.0</td>\n",
       "      <td>4.0</td>\n",
       "      <td>5.0</td>\n",
       "      <td>5.0</td>\n",
       "    </tr>\n",
       "    <tr>\n",
       "      <th>RO</th>\n",
       "      <td>169.0</td>\n",
       "      <td>3.591716</td>\n",
       "      <td>1.505601</td>\n",
       "      <td>1.0</td>\n",
       "      <td>3.0</td>\n",
       "      <td>4.0</td>\n",
       "      <td>5.0</td>\n",
       "      <td>5.0</td>\n",
       "    </tr>\n",
       "    <tr>\n",
       "      <th>RR</th>\n",
       "      <td>41.0</td>\n",
       "      <td>3.658537</td>\n",
       "      <td>1.559002</td>\n",
       "      <td>1.0</td>\n",
       "      <td>3.0</td>\n",
       "      <td>4.0</td>\n",
       "      <td>5.0</td>\n",
       "      <td>5.0</td>\n",
       "    </tr>\n",
       "    <tr>\n",
       "      <th>RS</th>\n",
       "      <td>3944.0</td>\n",
       "      <td>3.511663</td>\n",
       "      <td>1.524960</td>\n",
       "      <td>1.0</td>\n",
       "      <td>2.0</td>\n",
       "      <td>4.0</td>\n",
       "      <td>5.0</td>\n",
       "      <td>5.0</td>\n",
       "    </tr>\n",
       "    <tr>\n",
       "      <th>SC</th>\n",
       "      <td>2618.0</td>\n",
       "      <td>3.461421</td>\n",
       "      <td>1.545465</td>\n",
       "      <td>1.0</td>\n",
       "      <td>2.0</td>\n",
       "      <td>4.0</td>\n",
       "      <td>5.0</td>\n",
       "      <td>5.0</td>\n",
       "    </tr>\n",
       "    <tr>\n",
       "      <th>SE</th>\n",
       "      <td>332.0</td>\n",
       "      <td>3.463855</td>\n",
       "      <td>1.499815</td>\n",
       "      <td>1.0</td>\n",
       "      <td>2.0</td>\n",
       "      <td>4.0</td>\n",
       "      <td>5.0</td>\n",
       "      <td>5.0</td>\n",
       "    </tr>\n",
       "    <tr>\n",
       "      <th>SP</th>\n",
       "      <td>29521.0</td>\n",
       "      <td>3.502016</td>\n",
       "      <td>1.508851</td>\n",
       "      <td>1.0</td>\n",
       "      <td>2.0</td>\n",
       "      <td>4.0</td>\n",
       "      <td>5.0</td>\n",
       "      <td>5.0</td>\n",
       "    </tr>\n",
       "    <tr>\n",
       "      <th>TO</th>\n",
       "      <td>235.0</td>\n",
       "      <td>3.480851</td>\n",
       "      <td>1.586082</td>\n",
       "      <td>1.0</td>\n",
       "      <td>2.0</td>\n",
       "      <td>4.0</td>\n",
       "      <td>5.0</td>\n",
       "      <td>5.0</td>\n",
       "    </tr>\n",
       "  </tbody>\n",
       "</table>\n",
       "</div>"
      ],
      "text/plain": [
       "                 rating                                             \n",
       "                  count      mean       std  min  25%  50%  75%  max\n",
       "reviewer_state                                                      \n",
       "AC                 53.0  3.547170  1.612046  1.0  2.0  4.0  5.0  5.0\n",
       "AL                474.0  3.508439  1.563637  1.0  2.0  4.0  5.0  5.0\n",
       "AM                116.0  3.336207  1.593159  1.0  2.0  4.0  5.0  5.0\n",
       "AP                 66.0  3.560606  1.520413  1.0  3.0  4.0  5.0  5.0\n",
       "BA               2918.0  3.371487  1.534129  1.0  2.0  4.0  5.0  5.0\n",
       "CE               1301.0  3.441199  1.583752  1.0  2.0  4.0  5.0  5.0\n",
       "DF               1434.0  3.495119  1.505622  1.0  2.0  4.0  5.0  5.0\n",
       "ES               1834.0  3.427481  1.534981  1.0  2.0  4.0  5.0  5.0\n",
       "GO               1536.0  3.509766  1.555039  1.0  2.0  4.0  5.0  5.0\n",
       "MA                691.0  3.434153  1.531199  1.0  2.0  4.0  5.0  5.0\n",
       "MG               9794.0  3.501123  1.517201  1.0  2.0  4.0  5.0  5.0\n",
       "MS                509.0  3.418468  1.578564  1.0  2.0  4.0  5.0  5.0\n",
       "MT                611.0  3.399345  1.539938  1.0  2.0  4.0  5.0  5.0\n",
       "PA                894.0  3.445190  1.584787  1.0  2.0  4.0  5.0  5.0\n",
       "PB                524.0  3.564885  1.542758  1.0  2.0  4.0  5.0  5.0\n",
       "PE               1825.0  3.591781  1.517240  1.0  3.0  4.0  5.0  5.0\n",
       "PI                440.0  3.306818  1.613990  1.0  1.0  4.0  5.0  5.0\n",
       "PR               4002.0  3.616692  1.501312  1.0  3.0  4.0  5.0  5.0\n",
       "RJ              10577.0  3.379030  1.579268  1.0  2.0  4.0  5.0  5.0\n",
       "RN                564.0  3.421986  1.526304  1.0  2.0  4.0  5.0  5.0\n",
       "RO                169.0  3.591716  1.505601  1.0  3.0  4.0  5.0  5.0\n",
       "RR                 41.0  3.658537  1.559002  1.0  3.0  4.0  5.0  5.0\n",
       "RS               3944.0  3.511663  1.524960  1.0  2.0  4.0  5.0  5.0\n",
       "SC               2618.0  3.461421  1.545465  1.0  2.0  4.0  5.0  5.0\n",
       "SE                332.0  3.463855  1.499815  1.0  2.0  4.0  5.0  5.0\n",
       "SP              29521.0  3.502016  1.508851  1.0  2.0  4.0  5.0  5.0\n",
       "TO                235.0  3.480851  1.586082  1.0  2.0  4.0  5.0  5.0"
      ]
     },
     "execution_count": 23,
     "metadata": {},
     "output_type": "execute_result"
    }
   ],
   "source": [
    "df[['reviewer_state','rating']].groupby('reviewer_state').describe()"
   ]
  },
  {
   "cell_type": "markdown",
   "metadata": {},
   "source": [
    "também pouca correlação da média e do desvio padrão"
   ]
  },
  {
   "cell_type": "markdown",
   "metadata": {},
   "source": [
    "## product_id"
   ]
  },
  {
   "cell_type": "code",
   "execution_count": 24,
   "metadata": {},
   "outputs": [
    {
     "data": {
      "text/plain": [
       "33038"
      ]
     },
     "execution_count": 24,
     "metadata": {},
     "output_type": "execute_result"
    }
   ],
   "source": [
    "df.product_id.value_counts().size"
   ]
  },
  {
   "cell_type": "markdown",
   "metadata": {},
   "source": [
    "## site_category_lv1 e lv2"
   ]
  },
  {
   "cell_type": "code",
   "execution_count": 25,
   "metadata": {},
   "outputs": [
    {
     "data": {
      "text/plain": [
       "site_category_lv1\n",
       "Celulares e Smartphones           12501\n",
       "Eletroportáteis                    7051\n",
       "Beleza e Perfumaria                5346\n",
       "Utilidades Domésticas              4944\n",
       "TV e Home Theater                  4609\n",
       "Informática e Acessórios           4461\n",
       "Móveis                             4376\n",
       "Brinquedos                         2812\n",
       "Casa e Construção                  2641\n",
       "Informática                        2580\n",
       "Livros                             2499\n",
       "Automotivo                         2290\n",
       "Eletrodomésticos                   2290\n",
       "Games                              2093\n",
       "Bebês                              1818\n",
       "Cama, Mesa e Banho                 1766\n",
       "Esporte e Lazer                    1746\n",
       "Saúde                              1699\n",
       "Moda                               1539\n",
       "Ferramentas e Jardim               1042\n",
       "Áudio                               924\n",
       "Decoração                           914\n",
       "Relógios                            904\n",
       "Pet Shop                            789\n",
       "Suplementos e Vitaminas             730\n",
       "Câmeras e Filmadoras                710\n",
       "Papelaria                           705\n",
       "Instrumentos Musicais               533\n",
       "Ar-condicionado e Aquecedores       430\n",
       "Alimentos e Bebidas                 427\n",
       "Malas e Acessórios                  414\n",
       "Filmes e Séries                     350\n",
       "Telefonia Fixa                      282\n",
       "Miscellaneous                       208\n",
       "Vestuário Esportivo                 189\n",
       "Wearable                            158\n",
       "Agro, Indústria e Comércio          158\n",
       "Música                              146\n",
       "Linha Industrial                     81\n",
       "Artigos de Festas                    54\n",
       "Livros Importados                    48\n",
       "Sinalização e Segurança              44\n",
       "Indústria, Comércio e Negócios       40\n",
       "Enfeites de Natal                    39\n",
       "Artesanato                           15\n",
       "Páscoa                               11\n",
       "Artigos de Festa                      5\n",
       "DVDs e Blu-ray                        3\n",
       "Informática Acessórios                3\n",
       "Blu-Ray                               1\n",
       "Beleza & Saúde                        1\n",
       "Perfumaria                            1\n",
       "Gift Card                             1\n",
       "Name: count, dtype: int64"
      ]
     },
     "execution_count": 25,
     "metadata": {},
     "output_type": "execute_result"
    }
   ],
   "source": [
    "df.site_category_lv1.value_counts()"
   ]
  },
  {
   "cell_type": "code",
   "execution_count": 26,
   "metadata": {},
   "outputs": [
    {
     "data": {
      "text/plain": [
       "53"
      ]
     },
     "execution_count": 26,
     "metadata": {},
     "output_type": "execute_result"
    }
   ],
   "source": [
    "df.site_category_lv1.value_counts().size"
   ]
  },
  {
   "cell_type": "code",
   "execution_count": 27,
   "metadata": {},
   "outputs": [
    {
     "data": {
      "text/plain": [
       "site_category_lv2\n",
       "Smartphone                 10586\n",
       "TV                          3759\n",
       "Cabelo                      1540\n",
       "Notebook                    1503\n",
       "Acessórios para Celular     1383\n",
       "                           ...  \n",
       "Religioso / Gospel             1\n",
       "Acabamentos para Motos         1\n",
       "Sem Lactose                    1\n",
       "Filtro de Barro                1\n",
       "Literatura Infantil            1\n",
       "Name: count, Length: 678, dtype: int64"
      ]
     },
     "execution_count": 27,
     "metadata": {},
     "output_type": "execute_result"
    }
   ],
   "source": [
    "df.site_category_lv2.value_counts()"
   ]
  },
  {
   "cell_type": "markdown",
   "metadata": {},
   "source": [
    "## Análise do campo review_title"
   ]
  },
  {
   "cell_type": "code",
   "execution_count": 28,
   "metadata": {},
   "outputs": [
    {
     "data": {
      "text/plain": [
       "<Axes: ylabel='Frequency'>"
      ]
     },
     "execution_count": 28,
     "metadata": {},
     "output_type": "execute_result"
    },
    {
     "data": {
      "image/png": "[encoded data removed]",
      "text/plain": [
       "<Figure size 640x480 with 1 Axes>"
      ]
     },
     "metadata": {},
     "output_type": "display_data"
    }
   ],
   "source": [
    "# lenth of titles and reviews\n",
    "\n",
    "df.review_title.apply(lambda x: len(str(x))).plot.hist()"
   ]
  },
  {
   "cell_type": "code",
   "execution_count": 29,
   "metadata": {},
   "outputs": [
    {
     "data": {
      "text/plain": [
       "'ESTAVA OLHANDO ONTEM A NOITE (22/04) O PRODUTO QUE CUSTAVA 666,05, POR ESSA MESMA LOJA, O NOTEBOOK DESCARREGOU DEIXEI PRA COMPRAR HOJE (23/04) QUANDO ME DEPARO COM ESSE PREÇO ABSURDO DE 815,00. AUMENTO ESTRATOSFÉRICO.'"
      ]
     },
     "execution_count": 29,
     "metadata": {},
     "output_type": "execute_result"
    }
   ],
   "source": [
    "df[df.review_title.apply(lambda x: len(str(x)))>149].review_text.values[0]"
   ]
  },
  {
   "cell_type": "markdown",
   "metadata": {},
   "source": [
    "Podemos ver ue algumas revisões não são exatamente revisões... são apenas reclamações"
   ]
  },
  {
   "cell_type": "markdown",
   "metadata": {},
   "source": [
    "## Análise do campo review_text"
   ]
  },
  {
   "cell_type": "code",
   "execution_count": 30,
   "metadata": {},
   "outputs": [
    {
     "data": {
      "text/plain": [
       "<Axes: ylabel='Frequency'>"
      ]
     },
     "execution_count": 30,
     "metadata": {},
     "output_type": "execute_result"
    },
    {
     "data": {
      "image/png": "[encoded data removed]",
      "text/plain": [
       "<Figure size 640x480 with 1 Axes>"
      ]
     },
     "metadata": {},
     "output_type": "display_data"
    }
   ],
   "source": [
    "\n",
    "df.review_text.apply(lambda x: len(str(x))).plot.hist()\n"
   ]
  },
  {
   "cell_type": "code",
   "execution_count": 31,
   "metadata": {},
   "outputs": [
    {
     "data": {
      "text/plain": [
       "<Axes: ylabel='Frequency'>"
      ]
     },
     "execution_count": 31,
     "metadata": {},
     "output_type": "execute_result"
    },
    {
     "data": {
      "image/png": "[encoded data removed]",
      "text/plain": [
       "<Figure size 640x480 with 1 Axes>"
      ]
     },
     "metadata": {},
     "output_type": "display_data"
    }
   ],
   "source": [
    "\n",
    "df[df.review_text.apply(lambda x: len(str(x)))<1000].review_text.apply(lambda x: len(str(x))).plot.hist()"
   ]
  },
  {
   "cell_type": "code",
   "execution_count": 32,
   "metadata": {},
   "outputs": [
    {
     "data": {
      "text/plain": [
       "41768    SanDisk Ultra Dual Usb Drive 3.0, 128 GbO San ...\n",
       "42810    Produto cancelado.Produto cancelado.Produto ca...\n",
       "43177    Pra quem precisa de um smartphone com um preço...\n",
       "43589    Precisava comprar uma tv nova, e, vendo a dife...\n",
       "63763    ele e whrgeyretr36ryt3r3bh3irj3uy4rur3ir5irhgr...\n",
       "70636    O produto é realmente muito bom. Como não tenh...\n",
       "71792    PRODUTO AINDA NÃO CHEGOU PRODUTO AINDA NÃO CHE...\n",
       "78500    Adoro a minha Airfryer! Mas... a tomada pegou ...\n",
       "78913    Porque não recomendo este produto:  1) O produ...\n",
       "Name: review_text, dtype: object"
      ]
     },
     "execution_count": 32,
     "metadata": {},
     "output_type": "execute_result"
    }
   ],
   "source": [
    "# lista dos reviews mais longos (>2000)\n",
    "\n",
    "df[df.review_text.apply(lambda x: len(str(x)))>2000].review_text"
   ]
  },
  {
   "cell_type": "code",
   "execution_count": 21,
   "metadata": {},
   "outputs": [],
   "source": [
    "text = df[df.index == 43177].review_text.values[0]"
   ]
  },
  {
   "cell_type": "code",
   "execution_count": 22,
   "metadata": {},
   "outputs": [
    {
     "data": {
      "text/plain": [
       "'Pra quem precisa de um smartphone com um preço mais acessível, esta é uma boa escolha que existe no mercado levando em conta o custo x benefício. O estranho é que o produto não vem com manual de instruções e sim apenas com um guia rápido; daí veio a dificuldade pra mim editar os grupos de contatos, que até agora não obtive êxito. Pra poder ouvir músicas, apenas o Play Música instalado, mas este player não é fácil de usar. Baixei o mídia player VLC para ter mais autonomia no uso e para montar minhas listas de reprodução com mais facilidade. Pra quem usa o smartphone durante o dia, leve o carregador consigo, pois a bateria não passa de 1 dia; portanto, não é de longa duração. A câmera por ser de 8MP, poderia ter uma qualidade melhor, mas não deixa a desejar. O foco parece tirar as fotos mais de perto, porém tem muitos recursos e boas a ótimas configurações; a câmera de 5MP da frente, também tem a mesma característica. Pontos positivos: Tela grande de 5\", Android 5.0.2 lollipop eficiente, muitos recursos da câmera e filmadora, aparelho fino e leve (mas mau cabe no bolso devido ao tamanho por causa da tela grande), já vem capa, película e cabo USB; QuadCore 1.3GHz, 1GB RAM e memória expansível até 32GB, aceita duas opções de chip no mesmo aparelho, tanto o chip normal ou micro chip. Pontos negativos: Memória interna limitada de 8GB; não vem com manual de instruções, apenas um guia rápido; bateria dura apenas 1 dia; player complexo para ouvir e organizar músicas; o som é regular e o viva voz também não tem uma potência razoável como nos Nokia Lumia por exemplo; a memória interna de 8GB é insuficiente por causa do aplicativos que exigem espaço interno do aparelho - logo de cara, mais da metade da memória interna já vem ocupada. Resumindo: Se você está precisando de um smartphone e não quer gastar muito, fique com o modelo Mirage 41S; tem poucas configurações a menos que o Mirage 61S, mas vale o custo X benefício.\\ufeff Se você necessita usar vários aplicativos, este modelo 61S NÃO é recomendável. Pesquise por um smartphone com memória interna de 32GB pra não ficar na mão.'"
      ]
     },
     "execution_count": 22,
     "metadata": {},
     "output_type": "execute_result"
    }
   ],
   "source": [
    "text"
   ]
  },
  {
   "cell_type": "code",
   "execution_count": 12,
   "metadata": {},
   "outputs": [],
   "source": [
    "import re\n",
    "alphabets= \"([A-Za-z])\"\n",
    "prefixes = \"(Mr|St|Mrs|Ms|Dr|Sr|Sra)[.]\"\n",
    "suffixes = \"(Inc|Ltd|Jr|Sr|Co)\"\n",
    "starters = \"(Mr|Mrs|Ms|Dr|Sr|Sra|Prof|Capt|Cpt|Lt|He\\s|She\\s|It\\s|They\\s|Their\\s|Our\\s|We\\s|But\\s|However\\s|That\\s|This\\s|Wherever)\"\n",
    "acronyms = \"([A-Z][.][A-Z][.](?:[A-Z][.])?)\"\n",
    "websites = \"[.](com|net|org|io|gov|edu|me)\"\n",
    "digits = \"([0-9])\"\n",
    "multiple_dots = r'\\.{2,}'\n",
    "\n",
    "def separador_sentencas(text: str) -> list[str]:\n",
    "    \"\"\"\n",
    "    Split the text into sentences.\n",
    "\n",
    "    If the text contains substrings \"<prd>\" or \"<stop>\", they would lead \n",
    "    to incorrect splitting because they are used as markers for splitting.\n",
    "\n",
    "    :param text: text to be split into sentences\n",
    "    :type text: str\n",
    "\n",
    "    :return: list of sentences\n",
    "    :rtype: list[str]\n",
    "    \"\"\"\n",
    "    text = \" \" + text + \"  \"\n",
    "    text = text.replace(\"\\n\",\" \")\n",
    "    text = re.sub(prefixes,\"\\\\1<prd>\",text)\n",
    "    text = re.sub(websites,\"<prd>\\\\1\",text)\n",
    "    text = re.sub(digits + \"[.]\" + digits,\"\\\\1<prd>\\\\2\",text)\n",
    "    text = re.sub(multiple_dots, lambda match: \"<prd>\" * len(match.group(0)) + \"<stop>\", text)\n",
    "    if \"Ph.D\" in text: text = text.replace(\"Ph.D.\",\"Ph<prd>D<prd>\")\n",
    "    text = re.sub(\"\\s\" + alphabets + \"[.] \",\" \\\\1<prd> \",text)\n",
    "    text = re.sub(acronyms+\" \"+starters,\"\\\\1<stop> \\\\2\",text)\n",
    "    text = re.sub(alphabets + \"[.]\" + alphabets + \"[.]\" + alphabets + \"[.]\",\"\\\\1<prd>\\\\2<prd>\\\\3<prd>\",text)\n",
    "    text = re.sub(alphabets + \"[.]\" + alphabets + \"[.]\",\"\\\\1<prd>\\\\2<prd>\",text)\n",
    "    text = re.sub(\" \"+suffixes+\"[.] \"+starters,\" \\\\1<stop> \\\\2\",text)\n",
    "    text = re.sub(\" \"+suffixes+\"[.]\",\" \\\\1<prd>\",text)\n",
    "    text = re.sub(\" \" + alphabets + \"[.]\",\" \\\\1<prd>\",text)\n",
    "    if \"”\" in text: text = text.replace(\".”\",\"”.\")\n",
    "    if \"\\\"\" in text: text = text.replace(\".\\\"\",\"\\\".\")\n",
    "    if \"!\" in text: text = text.replace(\"!\\\"\",\"\\\"!\")\n",
    "    if \"?\" in text: text = text.replace(\"?\\\"\",\"\\\"?\")\n",
    "    text = text.replace(\".\",\".<stop>\")\n",
    "    text = text.replace(\"?\",\"?<stop>\")\n",
    "    text = text.replace(\"!\",\"!<stop>\")\n",
    "    text = text.replace(\"<prd>\",\".\")\n",
    "    sentences = text.split(\"<stop>\")\n",
    "    sentences = [s.strip() for s in sentences]\n",
    "    if sentences and not sentences[-1]: sentences = sentences[:-1]\n",
    "    return sentences"
   ]
  },
  {
   "cell_type": "code",
   "execution_count": 23,
   "metadata": {},
   "outputs": [
    {
     "data": {
      "text/plain": [
       "['Pra quem precisa de um smartphone com um preço mais acessível, esta é uma boa escolha que existe no mercado levando em conta o custo x benefício.',\n",
       " 'O estranho é que o produto não vem com manual de instruções e sim apenas com um guia rápido; daí veio a dificuldade pra mim editar os grupos de contatos, que até agora não obtive êxito.',\n",
       " 'Pra poder ouvir músicas, apenas o Play Música instalado, mas este player não é fácil de usar.',\n",
       " 'Baixei o mídia player VLC para ter mais autonomia no uso e para montar minhas listas de reprodução com mais facilidade.',\n",
       " 'Pra quem usa o smartphone durante o dia, leve o carregador consigo, pois a bateria não passa de 1 dia; portanto, não é de longa duração.',\n",
       " 'A câmera por ser de 8MP, poderia ter uma qualidade melhor, mas não deixa a desejar.',\n",
       " 'O foco parece tirar as fotos mais de perto, porém tem muitos recursos e boas a ótimas configurações; a câmera de 5MP da frente, também tem a mesma característica.',\n",
       " 'Pontos positivos: Tela grande de 5\", Android 5.0.',\n",
       " '2 lollipop eficiente, muitos recursos da câmera e filmadora, aparelho fino e leve (mas mau cabe no bolso devido ao tamanho por causa da tela grande), já vem capa, película e cabo USB; QuadCore 1.3GHz, 1GB RAM e memória expansível até 32GB, aceita duas opções de chip no mesmo aparelho, tanto o chip normal ou micro chip.',\n",
       " 'Pontos negativos: Memória interna limitada de 8GB; não vem com manual de instruções, apenas um guia rápido; bateria dura apenas 1 dia; player complexo para ouvir e organizar músicas; o som é regular e o viva voz também não tem uma potência razoável como nos Nokia Lumia por exemplo; a memória interna de 8GB é insuficiente por causa do aplicativos que exigem espaço interno do aparelho - logo de cara, mais da metade da memória interna já vem ocupada.',\n",
       " 'Resumindo: Se você está precisando de um smartphone e não quer gastar muito, fique com o modelo Mirage 41S; tem poucas configurações a menos que o Mirage 61S, mas vale o custo X benefício.',\n",
       " '\\ufeff Se você necessita usar vários aplicativos, este modelo 61S NÃO é recomendável.',\n",
       " 'Pesquise por um smartphone com memória interna de 32GB pra não ficar na mão.']"
      ]
     },
     "execution_count": 23,
     "metadata": {},
     "output_type": "execute_result"
    }
   ],
   "source": [
    "separador_sentencas(text)"
   ]
  },
  {
   "cell_type": "code",
   "execution_count": 16,
   "metadata": {},
   "outputs": [
    {
     "name": "stdout",
     "output_type": "stream",
     "text": [
      "43177    Pra quem precisa de um smartphone com um preço...\n",
      "Name: review_text, dtype: object\n"
     ]
    }
   ],
   "source": [
    "for item in separador_sentencas(str(text)):\n",
    "    print(item)"
   ]
  },
  {
   "cell_type": "code",
   "execution_count": 33,
   "metadata": {},
   "outputs": [
    {
     "name": "stdout",
     "output_type": "stream",
     "text": [
      "ele e whrgeyretr36ryt3r3bh3irj3uy4rur3ir5irhgr[tlgrjyrnyrjyrhyurhyuyruvhyr3t3tv3ttcomo baixar sony vegas 32 bits crackeado 2017 em portuguescomo baixar sony vegas 32 bits crackeado 2017 em portuguescomo baixar sony vegas 32 bits crackeado 2017 em portuguescomo baixar sony vegas 32 bits crackeado 2017 em portuguescomo baixar sony vegas 32 bits crackeado 2017 em portuguescomo baixar sony vegas 32 bits crackeado 2017 em portuguescomo baixar sony vegas 32 bits crackeado 2017 em portuguescomo baixar sony vegas 32 bits crackeado 2017 em portuguescomo baixar sony vegas 32 bits crackeado 2017 em portuguescomo baixar sony vegas 32 bits crackeado 2017 em portuguescomo baixar sony vegas 32 bits crackeado 2017 em portuguescomo baixar sony vegas 32 bits crackeado 2017 em portuguescomo baixar sony vegas 32 bits crackeado 2017 em portuguescomo baixar sony vegas 32 bits crackeado 2017 em portuguescomo baixar sony vegas 32 bits crackeado 2017 em portuguescomo baixar sony vegas 32 bits crackeado 2017 em portuguescomo baixar sony vegas 32 bits crackeado 2017 em portuguescomo baixar sony vegas 32 bits crackeado 2017 em portuguescomo baixar sony vegas 32 bits crackeado 2017 em portuguescomo baixar sony vegas 32 bits crackeado 2017 em portuguescomo baixar sony vegas 32 bits crackeado 2017 em portuguescomo baixar sony vegas 32 bits crackeado 2017 em portuguescomo baixar sony vegas 32 bits crackeado 2017 em portuguescomo baixar sony vegas 32 bits crackeado 2017 em portuguescomo baixar sony vegas 32 bits crackeado 2017 em portuguescomo baixar sony vegas 32 bits crackeado 2017 em portuguescomo baixar sony vegas 32 bits crackeado 2017 em portuguescomo baixar sony vegas 32 bits crackeado 2017 em portuguescomo baixar sony vegas 32 bits crackeado 2017 em portuguescomo baixar sony vegas 32 bits crackeado 2017 em portuguescomo baixar sony vegas 32 bits crackeado 2017 em portuguescomo baixar sony vegas 32 bits crackeado 2017 em portuguescomo baixar sony vegas 32 bits crackeado 2017 em portuguescomo baixar sony vegas 32 bits crackeado 2017 em portuguescomo baixar sony vegas 32 bits crackeado 2017 em portuguescomo baixar sony vegas 32 bits crackeado 2017 em portuguescomo baixar sony vegas 32 bits crackeado 2017 em portuguescomo baixar sony vegas 32 bits crackeado 2017 em portuguescomo baixar sony vegas 32 bits crackeado 2017 em portuguescomo baixar sony vegas 32 bits crackeado 2017 em portuguescomo baixar sony vegas 32 bits crackeado 2017 em portuguescomo baixar sony vegas 32 bits crackeado 2017 em portuguescomo baixar sony vegas 32 bits crackeado 2017 em portuguescomo baixar sony vegas 32 bits crackeado 2017 em portuguescomo baixar sony vegas 32 bits crackeado 2017 em portuguescomo baixar sony vegas 32 bits crackeado 2017 em portuguescomo baixar sony vegas 32 bits crackeado 2017 em portuguescomo baixar sony vegas 32 bits crackeado 2017 em portuguescomo baixar sony vegas 32 bits crackeado 2017 em portuguescomo baixar sony vegas 32 bits crackeado 2017 em portuguescomo baixar sony vegas 32 bits crackeado 2017 em portuguescomo baixar sony vegas 32 bits crackeado 2017 em portuguescomo baixar sony vegas 32 bits crackeado 2017 em portuguescomo baixar sony vegas 32 bits crackeado 2017 em portuguescomo baixar sony vegas 32 bits crackeado 2017 em portuguescomo baixar sony vegas 32 bits crackeado 2017 em portuguescomo baixar sony vegas 32 bits crackeado 2017 em portuguescomo baixar sony vegas 32 bits crackeado 2017 em portuguescomo baixar sony vegas 32 bits crackeado 2017 em portuguescomo baixar sony vegas 32 bits crackeado 2017 em portuguescomo baixar sony vegas 32 bits crackeado 2017 em portuguescomo baixar sony vegas 32 bits crackeado 2017 em portuguescomo baixar sony vegas 32 bits crackeado 2017 em portuguescomo baixar sony vegas 32 bits crackeado 2017 em portuguescomo baixar sony vegas 32 bits crackeado 2017 em portuguescomo baixar sony vegas 32 bits crackeado 2017 em portuguescomo baixar sony vegas 32 bits crackeado 2017 em portuguescomo baixar sony vegas 32 bits crackeado 2017 em portuguescomo baixar sony vegas 32 bits crackeado 2017 em portuguescomo baixar sony vegas 32 bits crackeado 2017 em portuguescomo baixar sony vegas 32 bits crackeado 2017 em portuguescomo baixar sony vegas 32 bits crackeado 2017 em portuguescomo baixar sony vegas 32 bits crackeado 2017 em portuguescomo baixar sony vegas 32 bits crackeado 2017 em portuguescomo baixar sony vegas 32 bits crackeado 2017 em portuguescomo baixar sony vegas 32 bits crackeado 2017 em portuguescomo baixar sony vegas 32 bits crackeado 2017 em portugues\n",
      "Max len: 4548\n"
     ]
    }
   ],
   "source": [
    "# Ver o maior texto existente\n",
    "print(df.loc[df.review_text.apply(lambda x: len(str(x))) == df.review_text.apply(lambda x: len(str(x))).max()].review_text.values[0])\n",
    "print('Max len:', df.review_text.apply(lambda x: len(str(x))).max())"
   ]
  },
  {
   "cell_type": "markdown",
   "metadata": {},
   "source": [
    "## Buscar diferenças entre 4 e 5"
   ]
  },
  {
   "cell_type": "code",
   "execution_count": 43,
   "metadata": {},
   "outputs": [],
   "source": [
    "\n",
    "df_4 = df[df['rating']==4]\n",
    "df_5 = df[df['rating']==5]\n",
    "\n",
    "df_1 = df[df['rating']==1]\n",
    "df_2 = df[df['rating']==2]\n",
    "\n",
    "df_3 = df[df['rating']==3]\n"
   ]
  },
  {
   "cell_type": "code",
   "execution_count": 50,
   "metadata": {},
   "outputs": [
    {
     "data": {
      "text/plain": [
       "reviewer_gender\n",
       "M    0.514173\n",
       "F    0.485827\n",
       "Name: proportion, dtype: float64"
      ]
     },
     "execution_count": 50,
     "metadata": {},
     "output_type": "execute_result"
    }
   ],
   "source": [
    "df.reviewer_gender.value_counts(normalize=True)"
   ]
  }
 ],
 "metadata": {
  "kernelspec": {
   "display_name": "Desafio_Ame_Env",
   "language": "python",
   "name": "python3"
  },
  "language_info": {
   "codemirror_mode": {
    "name": "ipython",
    "version": 3
   },
   "file_extension": ".py",
   "mimetype": "text/x-python",
   "name": "python",
   "nbconvert_exporter": "python",
   "pygments_lexer": "ipython3",
   "version": "3.11.6"
  },
  "orig_nbformat": 4
 },
 "nbformat": 4,
 "nbformat_minor": 2
}
