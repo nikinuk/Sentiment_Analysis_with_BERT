{
 "cells": [
  {
   "cell_type": "code",
   "execution_count": 1,
   "metadata": {},
   "outputs": [],
   "source": [
    "import pandas as pd\n",
    "from matplotlib import pyplot as plt\n",
    "import numpy as np\n",
    "import re\n",
    "from unidecode import unidecode\n",
    "import tensorflow as tf\n",
    "from tensorflow.keras.preprocessing.text import Tokenizer\n",
    "from tensorflow.keras.preprocessing.sequence import pad_sequences\n",
    "from tensorflow.keras.utils import to_categorical\n",
    "from keras.layers import Input, Dense, LSTM, Embedding, concatenate, Bidirectional\n",
    "from keras.models import Model\n",
    "\n",
    "# Hyperparametros e constantes\n",
    "vocab_size = 5000\n",
    "embedding_dim = 64\n",
    "trunc_type = 'post'\n",
    "padding_type = 'post'\n",
    "oov_tok = '<OOV>'\n",
    "training_portion = .8\n",
    "\n",
    "# FUNções\n",
    "def cleantexts(text): #limpa campo de tecxto fornecido\n",
    "    # preprocessing steps\n",
    "    text = str(text)\n",
    "    # convert to lowercase\n",
    "    text = text.lower()\n",
    "    # delete digits, special chars, etc., \n",
    "    text = unidecode(text)\n",
    "    text = re.sub('[^a-zA-Z]', ' ', text)\n",
    "    # delete additional spaces\n",
    "    text = text.replace('\\s+', ' ')\n",
    "    # add start and end tags to the caption\n",
    "    #text = '< ' + \" \".join([word for word in text.split() if len(word)>1]) + ' >'\n",
    "    return text\n",
    "\n",
    "def norm_recom(rec): #Mapeia recomendações YesNo para 1 e 0\n",
    "    if rec == 'Yes':\n",
    "        return 1\n",
    "    else:\n",
    "        return 0"
   ]
  },
  {
   "cell_type": "code",
   "execution_count": 3,
   "metadata": {},
   "outputs": [
    {
     "name": "stdout",
     "output_type": "stream",
     "text": [
      "<class 'pandas.core.frame.DataFrame'>\n",
      "RangeIndex: 79425 entries, 0 to 79424\n",
      "Data columns (total 15 columns):\n",
      " #   Column                 Non-Null Count  Dtype         \n",
      "---  ------                 --------------  -----         \n",
      " 0   ID                     79425 non-null  int64         \n",
      " 1   submission_date        79425 non-null  datetime64[ns]\n",
      " 2   reviewer_id            79425 non-null  object        \n",
      " 3   reviewer_birth_year    75874 non-null  float64       \n",
      " 4   reviewer_gender        76941 non-null  object        \n",
      " 5   reviewer_state         77023 non-null  object        \n",
      " 6   product_id             79425 non-null  object        \n",
      " 7   product_name           79373 non-null  object        \n",
      " 8   product_brand          24646 non-null  object        \n",
      " 9   site_category_lv1      79421 non-null  object        \n",
      " 10  site_category_lv2      77007 non-null  object        \n",
      " 11  review_title           79248 non-null  object        \n",
      " 12  review_text            77458 non-null  object        \n",
      " 13  recommend_to_a_friend  79414 non-null  object        \n",
      " 14  rating                 79425 non-null  int64         \n",
      "dtypes: datetime64[ns](1), float64(1), int64(2), object(11)\n",
      "memory usage: 9.1+ MB\n"
     ]
    }
   ],
   "source": [
    "dfraw = pd.read_csv('train.csv', low_memory=False, parse_dates=[1])\n",
    "dfraw.info()"
   ]
  },
  {
   "cell_type": "code",
   "execution_count": 4,
   "metadata": {},
   "outputs": [],
   "source": [
    "#Limpar DF e passar preprocessamento no texto\n",
    "df = dfraw[['review_title', 'review_text','recommend_to_a_friend', 'rating']].dropna()\n",
    "df['clean_text'] = df.review_title.apply(lambda x: cleantexts(x)) + ' ' + df.review_text.apply(lambda x: cleantexts(x))\n",
    "\n",
    "# tokenizae texto\n",
    "tokenizer = Tokenizer(num_words = vocab_size, oov_token=oov_tok)\n",
    "tokenizer.fit_on_texts(list(df.clean_text.values))\n",
    "\n",
    "word_index = tokenizer.word_index\n",
    "\n",
    "# maior revisao\n",
    "max_length = max(len(text.split()) for text in df.clean_text)\n",
    "max_length\n",
    "\n",
    "# Criar litas de Xs e y\n",
    "\n",
    "reviews = list(df.clean_text.values)\n",
    "recomends = df.recommend_to_a_friend.apply(lambda x: norm_recom(str(x))).values\n",
    "ratings = list(df.rating.apply(lambda x: str(x)))\n",
    "\n",
    "# Separa treino e validação\n",
    "\n",
    "train_size = int(len(reviews) * training_portion)\n",
    "\n",
    "reviews_train = reviews[0: train_size]\n",
    "ratings_train = ratings[0: train_size]\n",
    "\n",
    "reviews_val = reviews[train_size:]\n",
    "ratings_val = ratings[train_size:]\n",
    "\n",
    "recomends_train = recomends[0: train_size]\n",
    "recomends_val = recomends[train_size:]\n",
    "\n",
    "# Tokenizar textos e aplicar padding (preparação final dos dados)\n",
    "\n",
    "X1_train = tokenizer.texts_to_sequences(reviews_train)\n",
    "X2_train = recomends_train\n",
    "\n",
    "X1_val = tokenizer.texts_to_sequences(reviews_val)\n",
    "X2_val = recomends_val\n",
    "\n",
    "X1_train = pad_sequences(X1_train, maxlen=max_length, padding=padding_type, truncating=trunc_type)\n",
    "X1_val = pad_sequences(X1_val, maxlen=max_length, padding=padding_type, truncating=trunc_type)\n",
    "\n",
    "# Tokeniza variaveis de saída (rating)\n",
    "label_tokenizer = Tokenizer()\n",
    "label_tokenizer.fit_on_texts(ratings_train)\n",
    "output_size = len(label_tokenizer.word_index)+1\n",
    "\n",
    "y_train = np.array(label_tokenizer.texts_to_sequences(ratings_train))\n",
    "y_val = np.array(label_tokenizer.texts_to_sequences(ratings_val))"
   ]
  },
  {
   "cell_type": "code",
   "execution_count": 6,
   "metadata": {},
   "outputs": [],
   "source": [
    "def Criar_Modelo(): # CRAÇÃO DO MODELO\n",
    "\n",
    "    # metadata (recomenda ou nao para amigo)\n",
    "    input_meta = Input(shape=(1,), name='Input Meta Data')\n",
    "\n",
    "    # sequencial (LSTM para textos)\n",
    "    inputs_text = Input(shape=(max_length))\n",
    "    embedding = Embedding(vocab_size, embedding_dim, name='Embedding')(inputs_text)\n",
    "    recurrent = Bidirectional(tf.keras.layers.LSTM(embedding_dim), name='LSTM_bid')(embedding)\n",
    "\n",
    "    # decoder model (Concatena inputs e decodifica)\n",
    "    decoder1 = concatenate([input_meta, recurrent])\n",
    "    decoder2 = Dense(embedding_dim, activation='relu')(decoder1)\n",
    "    outputs = Dense(output_size, activation='softmax')(decoder2)\n",
    "\n",
    "    model = Model(inputs=[inputs_text, input_meta], outputs=outputs)\n",
    "\n",
    "    return model"
   ]
  },
  {
   "cell_type": "code",
   "execution_count": 7,
   "metadata": {},
   "outputs": [
    {
     "name": "stdout",
     "output_type": "stream",
     "text": [
      "Model: \"model\"\n",
      "__________________________________________________________________________________________________\n",
      " Layer (type)                Output Shape                 Param #   Connected to                  \n",
      "==================================================================================================\n",
      " input_1 (InputLayer)        [(None, 632)]                0         []                            \n",
      "                                                                                                  \n",
      " Embedding (Embedding)       (None, 632, 64)              320000    ['input_1[0][0]']             \n",
      "                                                                                                  \n",
      " Input Meta Data (InputLaye  [(None, 1)]                  0         []                            \n",
      " r)                                                                                               \n",
      "                                                                                                  \n",
      " LSTM_bid (Bidirectional)    (None, 128)                  66048     ['Embedding[0][0]']           \n",
      "                                                                                                  \n",
      " concatenate (Concatenate)   (None, 129)                  0         ['Input Meta Data[0][0]',     \n",
      "                                                                     'LSTM_bid[0][0]']            \n",
      "                                                                                                  \n",
      " dense (Dense)               (None, 64)                   8320      ['concatenate[0][0]']         \n",
      "                                                                                                  \n",
      " dense_1 (Dense)             (None, 6)                    390       ['dense[0][0]']               \n",
      "                                                                                                  \n",
      "==================================================================================================\n",
      "Total params: 394758 (1.51 MB)\n",
      "Trainable params: 394758 (1.51 MB)\n",
      "Non-trainable params: 0 (0.00 Byte)\n",
      "__________________________________________________________________________________________________\n"
     ]
    }
   ],
   "source": [
    "model = Criar_Modelo()\n",
    "model.summary()"
   ]
  },
  {
   "cell_type": "code",
   "execution_count": 8,
   "metadata": {},
   "outputs": [],
   "source": [
    "model.compile(loss='sparse_categorical_crossentropy', optimizer='adam', metrics=['accuracy'])"
   ]
  },
  {
   "cell_type": "code",
   "execution_count": 9,
   "metadata": {},
   "outputs": [
    {
     "name": "stdout",
     "output_type": "stream",
     "text": [
      "Epoch 1/10\n",
      "62/62 [==============================] - 245s 4s/step - loss: 1.2662 - accuracy: 0.4601 - val_loss: 0.9325 - val_accuracy: 0.5976\n",
      "Epoch 2/10\n",
      "62/62 [==============================] - 253s 4s/step - loss: 0.8353 - accuracy: 0.6351 - val_loss: 0.8176 - val_accuracy: 0.6490\n",
      "Epoch 3/10\n",
      "62/62 [==============================] - 255s 4s/step - loss: 0.7652 - accuracy: 0.6641 - val_loss: 0.7979 - val_accuracy: 0.6561\n",
      "Epoch 4/10\n",
      "62/62 [==============================] - 237s 4s/step - loss: 0.7404 - accuracy: 0.6751 - val_loss: 0.7973 - val_accuracy: 0.6523\n",
      "Epoch 5/10\n",
      "62/62 [==============================] - 237s 4s/step - loss: 0.7225 - accuracy: 0.6835 - val_loss: 0.7981 - val_accuracy: 0.6514\n",
      "Epoch 6/10\n",
      "62/62 [==============================] - 250s 4s/step - loss: 0.7066 - accuracy: 0.6905 - val_loss: 0.8043 - val_accuracy: 0.6532\n",
      "Epoch 7/10\n",
      "62/62 [==============================] - 245s 4s/step - loss: 0.6968 - accuracy: 0.6942 - val_loss: 0.8069 - val_accuracy: 0.6537\n",
      "Epoch 8/10\n",
      "62/62 [==============================] - 253s 4s/step - loss: 0.6847 - accuracy: 0.7008 - val_loss: 0.8071 - val_accuracy: 0.6530\n",
      "Epoch 9/10\n",
      "62/62 [==============================] - 254s 4s/step - loss: 0.6753 - accuracy: 0.7059 - val_loss: 0.8130 - val_accuracy: 0.6464\n",
      "Epoch 10/10\n",
      "62/62 [==============================] - 254s 4s/step - loss: 0.6630 - accuracy: 0.7130 - val_loss: 0.8235 - val_accuracy: 0.6499\n"
     ]
    }
   ],
   "source": [
    "num_epochs = 10\n",
    "history = model.fit((X1_train, X2_train ), y_train, epochs=num_epochs, validation_data=((X1_val, X2_val), y_val), verbose=1, batch_size=1000)"
   ]
  },
  {
   "cell_type": "code",
   "execution_count": 10,
   "metadata": {},
   "outputs": [
    {
     "data": {
      "image/png": "[encoded data removed]",
      "text/plain": [
       "<Figure size 640x480 with 1 Axes>"
      ]
     },
     "metadata": {},
     "output_type": "display_data"
    }
   ],
   "source": [
    "plt.plot(history.history['accuracy'])\n",
    "plt.plot(history.history['val_accuracy'])\n",
    "plt.title('model accuracy')\n",
    "plt.ylabel('accuracy')\n",
    "plt.xlabel('epoch')\n",
    "plt.legend(['train', 'val'], loc='upper left')\n",
    "plt.show()"
   ]
  },
  {
   "cell_type": "code",
   "execution_count": 12,
   "metadata": {},
   "outputs": [
    {
     "name": "stdout",
     "output_type": "stream",
     "text": [
      "Epoch 1/4\n",
      "78/78 [==============================] - 273s 3s/step - loss: 1.2338 - accuracy: 0.4946\n",
      "Epoch 2/4\n",
      "78/78 [==============================] - 281s 4s/step - loss: 0.8102 - accuracy: 0.6440\n",
      "Epoch 3/4\n",
      "78/78 [==============================] - 281s 4s/step - loss: 0.7574 - accuracy: 0.6674\n",
      "Epoch 4/4\n",
      "78/78 [==============================] - 286s 4s/step - loss: 0.7389 - accuracy: 0.6764\n"
     ]
    }
   ],
   "source": [
    "#retreino com novo modelo e todos os dados por apenas 4 epocas\n",
    "\n",
    "model = Criar_Modelo()\n",
    "model.compile(loss='sparse_categorical_crossentropy', optimizer='adam', metrics=['accuracy'])\n",
    "\n",
    "X1 = tokenizer.texts_to_sequences(reviews)\n",
    "X1 = pad_sequences(X1, maxlen=max_length, padding=padding_type, truncating=trunc_type)\n",
    "X2 = recomends\n",
    "\n",
    "y = np.array(label_tokenizer.texts_to_sequences(ratings))\n",
    "\n",
    "final_history = model.fit((X1,X2), y, epochs=4, verbose=1, batch_size=1000)"
   ]
  },
  {
   "cell_type": "code",
   "execution_count": 13,
   "metadata": {},
   "outputs": [
    {
     "name": "stdout",
     "output_type": "stream",
     "text": [
      "53/53 [==============================] - 121s 2s/step\n"
     ]
    }
   ],
   "source": [
    "# Tratamento da base de teste\n",
    "\n",
    "dftest = pd.read_csv('test.csv', low_memory=False, parse_dates=[1])\n",
    "dftest['clean_text'] = dftest.review_title.apply(lambda x: cleantexts(x)) + ' ' + dftest.review_text.apply(lambda x: cleantexts(x))\n",
    "\n",
    "reviews = list(dftest.clean_text.values)\n",
    "X1_pred = tokenizer.texts_to_sequences(reviews)\n",
    "X1_pred = pad_sequences(X1_pred, maxlen=max_length, padding=padding_type, truncating=trunc_type)\n",
    "X2_pred = dftest.recommend_to_a_friend.apply(lambda x: norm_recom(str(x))).values\n",
    "\n",
    "#Previsão\n",
    "predictions = model.predict((X1_pred, X2_pred), verbose=1, batch_size=1000)"
   ]
  },
  {
   "cell_type": "code",
   "execution_count": 14,
   "metadata": {},
   "outputs": [],
   "source": [
    "#Transformar previsão 'softmax' em ratings\n",
    "pred=[]\n",
    "for p in predictions:\n",
    "    t = [[np.argmax(p)]]\n",
    "    pred.append(int(label_tokenizer.sequences_to_texts(t)[0]))\n",
    "\n",
    "#Salvar arquivoi de submissão\n",
    "dftest['rating'] = pred\n",
    "dftest[['ID','rating']].to_csv('submission_2.csv', index=False)"
   ]
  }
 ],
 "metadata": {
  "kernelspec": {
   "display_name": "Desafio_Ame_Env",
   "language": "python",
   "name": "python3"
  },
  "language_info": {
   "codemirror_mode": {
    "name": "ipython",
    "version": 3
   },
   "file_extension": ".py",
   "mimetype": "text/x-python",
   "name": "python",
   "nbconvert_exporter": "python",
   "pygments_lexer": "ipython3",
   "version": "3.11.6"
  }
 },
 "nbformat": 4,
 "nbformat_minor": 2
}
